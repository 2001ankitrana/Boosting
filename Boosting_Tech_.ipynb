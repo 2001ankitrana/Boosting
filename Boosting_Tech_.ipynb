{
  "nbformat": 4,
  "nbformat_minor": 0,
  "metadata": {
    "colab": {
      "provenance": []
    },
    "kernelspec": {
      "name": "python3",
      "display_name": "Python 3"
    },
    "language_info": {
      "name": "python"
    }
  },
  "cells": [
    {
      "cell_type": "markdown",
      "source": [
        "THEORATICAL QUESTIONS"
      ],
      "metadata": {
        "id": "lA9cwhm5AHw2"
      }
    },
    {
      "cell_type": "markdown",
      "source": [
        "1/ What is Boosting in Machine Learning.\n",
        "-\n",
        "Boosting is an ensemble learning method that combines a set of weak learners into a strong learner to minimize training errors. It is used in supervised learning to convert weak learners to strong learners."
      ],
      "metadata": {
        "id": "SplSSK8rAMmg"
      }
    },
    {
      "cell_type": "markdown",
      "source": [
        "2/  How does Boosting differ from Bagging.\n",
        "-\n",
        "In simpler terms:\n",
        "\n",
        "Boosting: Focuses on improving the accuracy of the model by sequentially correcting errors. Imagine a group of students studying for an exam. In boosting, each student focuses on the topics that the previous students struggled with, ensuring that everyone eventually masters the material.\n",
        "\n",
        "Bagging: Focuses on improving the stability and robustness of the model by training multiple learners on different data subsets. Imagine creating multiple study guides for the same exam, each covering a different set of topics. By combining the knowledge from all the study guides, you create a comprehensive understanding of the material."
      ],
      "metadata": {
        "id": "BoohYh2wAkE_"
      }
    },
    {
      "cell_type": "markdown",
      "source": [
        "3/  What is the key idea behind AdaBoost.\n",
        "-\n",
        "AdaBoost is an iterative ensemble method that combines multiple weak learners to create a strong learner. The key idea is to sequentially train weak learners, where each subsequent learner focuses on correcting the errors made by the previous learners. This is achieved by assigning weights to the training data points, with higher weights given to misclassified instances."
      ],
      "metadata": {
        "id": "nHX9lyo-Akp9"
      }
    },
    {
      "cell_type": "markdown",
      "source": [
        "4/ Explain the working of AdaBoost with an example.\n",
        "-\n",
        "AdaBoost Steps:\n",
        "\n",
        "Initialization: Initially, all emails in the dataset are assigned equal weights.\n",
        "\n",
        "First Weak Learner: A weak learner (e.g., a decision stump) is trained on the data. Let's say this learner focuses on the sender address and classifies emails from a specific domain as spam.\n",
        "\n",
        "Weight Update: The emails that were misclassified by the first learner are given higher weights. For example, emails from other domains that were also spam but not classified as such would receive higher weights.\n",
        "\n",
        "Second Weak Learner: Another weak learner is trained on the updated weighted data. This learner might focus on a different feature, like the presence of certain keywords in the subject line.\n",
        "\n",
        "Weight Update: Again, the weights of misclassified emails are increased.\n",
        "\n",
        "Iteration: This process of training weak learners and updating weights is repeated for a specified number of iterations.\n",
        "\n",
        "Ensemble Creation: Finally, the predictions of all weak learners are combined using a weighted voting scheme. Learners that performed better on the weighted data have higher weights in the final prediction.\n",
        "\n",
        "Example:\n",
        "\n",
        "Let's say we have three weak learners:\n",
        "\n",
        "Learner 1: Classifies emails from a specific domain as spam.\n",
        "Learner 2: Classifies emails with certain keywords in the subject line as spam.\n",
        "Learner 3: Classifies emails with a high number of exclamation marks as spam.\n",
        "Each learner has a different weight based on its performance on the weighted data. When a new email arrives, all three learners make a prediction, and their predictions are combined using the weighted voting scheme to determine whether the email is spam or not."
      ],
      "metadata": {
        "id": "KgHBv1nFAlCM"
      }
    },
    {
      "cell_type": "markdown",
      "source": [
        "5/ What is Gradient Boosting, and how is it different from AdaBoost.\n",
        "-\n",
        "Gradient Boosting is a powerful ensemble learning technique that builds a strong predictive model by combining multiple weak learners, typically decision trees. It works by sequentially adding new models to the ensemble, where each new model is trained to correct the errors made by the previous models. The key idea is to use gradient descent to minimize the loss function of the ensemble, hence the name \"Gradient Boosting.\"\n",
        "\n",
        "When to use which:\n",
        "\n",
        "Gradient Boosting: Often preferred for complex datasets and when high accuracy is crucial. It is widely used in various machine learning tasks, including classification, regression, and ranking.\n",
        "\n",
        "AdaBoost: Still a valuable algorithm, particularly for simple datasets and when interpretability is important. It is often used in binary classification problems."
      ],
      "metadata": {
        "id": "yQOT2HlNAlbv"
      }
    },
    {
      "cell_type": "markdown",
      "source": [
        "6/ What is the loss function in Gradient Boosting.\n",
        "-\n",
        "In Gradient Boosting, the loss function plays a crucial role in guiding the algorithm's learning process. It quantifies the difference between the predicted values and the actual target values, essentially measuring the error of the model.\n",
        "\n",
        "Purpose of the Loss Function\n",
        "\n",
        "Calculates the Error: The loss function takes the predicted output of the model and compares it to the ground truth (actual observed values). This comparison results in a numerical value representing the error.\n",
        "Guides Model Training: The primary objective of any machine learning model is to minimize the loss function. Gradient Boosting achieves this by iteratively adding new models to the ensemble, each trained to reduce the errors made by the previous models. The loss function provides the direction for this error reduction."
      ],
      "metadata": {
        "id": "Uv5zZXmHCPhh"
      }
    },
    {
      "cell_type": "markdown",
      "source": [
        "7/ How does XGBoost improve over traditional Gradient Boosting.\n",
        "-\n",
        "XGBoost (Extreme Gradient Boosting) is an advanced implementation of gradient boosting that builds upon the principles of traditional gradient boosting while introducing several key improvements. Here are some of the ways XGBoost enhances performance and efficiency:\n",
        "\n",
        "Regularization: XGBoost incorporates regularization terms into the objective function, which helps to prevent overfitting and improve generalization performance. These regularization terms penalize complex models, encouraging the algorithm to learn simpler and more robust patterns from the data.\n",
        "\n",
        "Second-Order Optimization: Unlike traditional gradient boosting, which typically uses first-order derivatives (gradients) for optimization, XGBoost employs second-order derivatives (Hessians) as well. This allows for more precise and efficient optimization, leading to faster convergence and better accuracy.\n",
        "\n",
        "Tree Pruning: XGBoost utilizes a more sophisticated tree pruning strategy compared to traditional gradient boosting. It uses a \"gain\" metric to evaluate the contribution of each split in the tree and prunes branches that do not significantly improve the model's performance. This helps to reduce the complexity of the trees and improve generalization.\n",
        "\n",
        "Handling Missing Values: XGBoost has built-in mechanisms for handling missing values in the data. It automatically learns the best imputation strategy during training, reducing the need for explicit data preprocessing.\n",
        "\n",
        "Parallel Processing: XGBoost is designed for parallel processing, allowing it to efficiently utilize multiple CPU cores during training. This significantly speeds up the training process, especially for large datasets.\n",
        "\n",
        "Cross-Validation: XGBoost provides built-in support for cross-validation, which helps to evaluate the model's performance on unseen data and prevent overfitting. This feature allows for more robust model selection and tuning."
      ],
      "metadata": {
        "id": "xX3lnTrvYC7w"
      }
    },
    {
      "cell_type": "markdown",
      "source": [
        "8/ What is the difference between XGBoost and CatBoost.\n",
        "-\n",
        "Both XGBoost and CatBoost are popular gradient boosting algorithms known for their high performance and accuracy. However, they differ in several key aspects:\n",
        "\n",
        "Handling Categorical Features:\n",
        "XGBoost: Requires one-hot encoding or label encoding for categorical features before training. This can lead to increased dimensionality and potential information loss.\n",
        "CatBoost: Handles categorical features directly without requiring explicit preprocessing. It uses a novel technique called ordered boosting to effectively incorporate categorical information, improving accuracy and reducing training time.\n",
        "\n",
        "Tree Structure:\n",
        "XGBoost: Builds trees level-wise, growing all nodes at a given level before proceeding to the next level.\n",
        "CatBoost: Builds trees depth-wise, growing one tree completely before starting the next one. This allows for better handling of categorical features and reduces overfitting.\n",
        "\n",
        "Regularization:\n",
        "XGBoost: Uses L1 and L2 regularization to prevent overfitting.\n",
        "CatBoost: Uses a different type of regularization called symmetric trees, which helps to reduce prediction shift and improve generalization performance.\n",
        "\n",
        "Implementation:\n",
        "XGBoost: Implemented in C++ with wrappers for Python, R, and other languages.\n",
        "CatBoost: Implemented in C++ with a focus on performance and efficiency. It also provides GPU support for faster training."
      ],
      "metadata": {
        "id": "-po5qtmVYDd3"
      }
    },
    {
      "cell_type": "markdown",
      "source": [
        "9/ What are some real-world applications of Boosting techniques.\n",
        "-\n",
        "Real-World Applications of Boosting Techniques\n",
        "\n",
        "Boosting techniques, particularly AdaBoost, Gradient Boosting, and XGBoost, have found widespread applications in various domains due to their ability to achieve high predictive accuracy and handle complex datasets. Here are some notable examples:\n",
        "\n",
        "Classification:\n",
        "Spam Detection: Boosting algorithms are extensively used in email spam filtering systems to classify incoming emails as spam or legitimate.\n",
        "Fraud Detection: Boosting is employed in financial institutions and online platforms to detect fraudulent transactions and activities.\n",
        "Medical Diagnosis: Boosting helps in diagnosing diseases based on patient data and medical imaging, such as identifying cancerous tumors in radiographic images.\n",
        "Image Recognition: Boosting algorithms are used in computer vision tasks like object detection, image classification, and facial recognition.\n",
        "Customer Churn Prediction: Boosting models are used by businesses to predict customer churn, enabling them to take proactive measures to retain customers.\n",
        "\n",
        "Regression:\n",
        "Sales Forecasting: Boosting helps businesses predict future sales based on historical data and market trends.\n",
        "Stock Price Prediction: Boosting is applied in financial markets to forecast stock prices and make investment decisions.\n",
        "Demand Forecasting: Boosting models are used by retailers and manufacturers to predict demand for products and optimize inventory management.\n",
        "Weather Forecasting: Boosting techniques are employed in meteorology to predict weather patterns and improve forecast accuracy.\n",
        "\n",
        "Ranking:\n",
        "Search Engine Ranking: Boosting algorithms are used by search engines to rank web pages based on relevance and user preferences.\n",
        "Recommendation Systems: Boosting is applied in online recommendation systems to personalize recommendations for users based on their past behavior and preferences.\n",
        "Document Retrieval: Boosting helps in retrieving relevant documents from large databases based on user queries."
      ],
      "metadata": {
        "id": "QfYIhfsuYEBF"
      }
    },
    {
      "cell_type": "markdown",
      "source": [
        "10/ How does regularization help in XGBoost.\n",
        "-\n",
        "Benefits of Regularization:\n",
        "\n",
        "Reduces Overfitting: By penalizing complex models, regularization prevents XGBoost from memorizing the training data and instead encourages it to learn more generalizable patterns. This leads to better performance on unseen data.\n",
        "\n",
        "Improves Generalization: Regularized models are less sensitive to noise and outliers in the training data, making them more robust and able to generalize well to new, unseen examples.\n",
        "\n",
        "Simplifies Models: Regularization encourages XGBoost to select simpler models with fewer features, making them easier to interpret and understand."
      ],
      "metadata": {
        "id": "Cn4N_RdTYEYd"
      }
    },
    {
      "cell_type": "markdown",
      "source": [
        "11/ What are some hyperparameters to tune in Gradient Boosting models.\n",
        "-\n",
        "Hyperparameters to Tune in Gradient Boosting Models\n",
        "\n",
        "Gradient Boosting models have several hyperparameters that can significantly impact their performance. Tuning these hyperparameters is crucial to achieve optimal results for a specific dataset and task. Here are some of the key hyperparameters to consider:\n",
        "\n",
        "Number of Trees (n_estimators):\n",
        "Controls the number of trees (weak learners) in the ensemble.\n",
        "Increasing the number of trees can improve performance, but it also increases the risk of overfitting and computational cost.\n",
        "It's often best to start with a moderate number of trees and gradually increase it while monitoring performance on a validation set.\n",
        "Learning Rate (learning_rate):\n",
        "Also known as shrinkage, it controls the contribution of each tree to the final prediction.\n",
        "A lower learning rate makes the model learn more slowly but can improve generalization performance.\n",
        "It's often recommended to use a smaller learning rate with a larger number of trees.\n",
        "Tree Depth (max_depth):\n",
        "Controls the maximum depth of each tree.\n",
        "Deeper trees can capture more complex interactions in the data, but they are also more prone to overfitting.\n",
        "It's typically best to start with a shallow depth and gradually increase it while monitoring performance.\n",
        "Minimum Samples Split (min_samples_split):\n",
        "Controls the minimum number of samples required to split an internal node in a tree.\n",
        "Increasing this value can prevent overfitting by avoiding splits on small subsets of data.\n",
        "Minimum Samples Leaf (min_samples_leaf):\n",
        "Controls the minimum number of samples required to be at a leaf node.\n",
        "Increasing this value can also prevent overfitting by ensuring that leaf nodes represent a sufficient number of data points.\n",
        "Subsample (subsample):\n",
        "Controls the fraction of samples used to train each tree.\n",
        "Using a subsample can introduce randomness and reduce overfitting.\n",
        "It's typically set to a value between 0.5 and 1."
      ],
      "metadata": {
        "id": "hK6RMBB5YEwh"
      }
    },
    {
      "cell_type": "markdown",
      "source": [
        "12/ What is the concept of Feature Importance in Boosting.\n",
        "-\n",
        "Feature Importance in Boosting\n",
        "\n",
        "Feature importance refers to techniques that assign scores to input features based on their relative importance in predicting the target variable. In boosting models, feature importance provides insights into which features contribute the most to the model's predictive power.\n",
        "\n",
        "How Feature Importance is Calculated\n",
        "\n",
        "Boosting algorithms, such as AdaBoost, Gradient Boosting, and XGBoost, typically offer built-in methods for calculating feature importance. These methods are based on different approaches, including:\n",
        "\n",
        "Split-based Importance (Gain): This method considers the number of times a feature is used to split nodes in the decision trees of the boosting ensemble. Features used in more splits or splits that result in larger information gain are deemed more important.\n",
        "\n",
        "Permutation-based Importance: This method involves randomly shuffling the values of a feature and observing the impact on the model's performance. If shuffling a feature significantly reduces performance, it indicates that the feature is important.\n",
        "\n",
        "SHAP (SHapley Additive exPlanations) Values: This method provides a more sophisticated approach to feature importance by calculating the contribution of each feature to the prediction for individual instances. It considers all possible feature combinations and provides a more comprehensive understanding of feature importance.\n",
        "\n",
        "Why Feature Importance is Important\n",
        "\n",
        "Understanding feature importance is valuable for several reasons:\n",
        "\n",
        "Model Interpretability: Feature importance helps to understand which features drive the model's predictions, making the model more transparent and interpretable.\n",
        "\n",
        "Feature Selection: Feature importance can guide feature selection by identifying the most relevant features and potentially removing irrelevant or redundant ones. This can improve model performance and reduce complexity.\n",
        "\n",
        "Data Understanding: Feature importance provides insights into the underlying relationships between features and the target variable, potentially revealing hidden patterns or dependencies in the data.\n",
        "\n",
        "Model Debugging: Feature importance can help identify potential issues with the model or the data, such as features that are unexpectedly unimportant or features that have a disproportionate impact on predictions."
      ],
      "metadata": {
        "id": "wtlpiwkzZdcR"
      }
    },
    {
      "cell_type": "markdown",
      "source": [
        "13/ Why is CatBoost efficient for categorical data.\n",
        "-\n",
        "CatBoost is specifically designed to handle categorical features efficiently without requiring extensive preprocessing. This efficiency stems from its unique approach to dealing with categorical data, primarily through the following techniques:\n",
        "\n",
        "Ordered Boosting:\n",
        "CatBoost uses a novel algorithm called ordered boosting, which helps to reduce overfitting when dealing with categorical features.\n",
        "Traditional gradient boosting methods can suffer from target leakage, where information about the target variable is inadvertently used during training, leading to overfitting.\n",
        "Ordered boosting addresses this issue by using a permutation-based approach to create a target statistic for each categorical feature.\n",
        "This target statistic is calculated using only the data points that precede the current observation in a random permutation, preventing target leakage and improving generalization performance.\n",
        "\n",
        "Ordered Target Encoding:\n",
        "CatBoost utilizes a technique called ordered target encoding to convert categorical features into numerical representations.\n",
        "This encoding scheme leverages the target statistic calculated during ordered boosting to assign numerical values to categorical levels.\n",
        "The encoding is performed in a way that minimizes the correlation between the encoded features and the target variable, further reducing the risk of overfitting.\n",
        "\n",
        "Feature Combinations:\n",
        "CatBoost automatically generates combinations of categorical features, expanding the feature space and potentially capturing more complex interactions between categorical variables.\n",
        "This feature combination generation is done efficiently, considering only the most relevant combinations based on statistical significance.\n",
        "\n",
        "Handling Missing Values:\n",
        "CatBoost has built-in mechanisms for handling missing values in categorical features.\n",
        "It automatically imputes missing values using a combination of target statistics and prior probabilities, reducing the need for manual preprocessing."
      ],
      "metadata": {
        "id": "h8GLX7FWZd3R"
      }
    },
    {
      "cell_type": "markdown",
      "source": [
        "PRACTICAL QUESTIONS"
      ],
      "metadata": {
        "id": "aiE4bJnkaBd5"
      }
    },
    {
      "cell_type": "markdown",
      "source": [
        "14/ Train an AdaBoost Classifier on a sample dataset and print model accuracy."
      ],
      "metadata": {
        "id": "AJi5_jmAaFcx"
      }
    },
    {
      "cell_type": "code",
      "source": [
        "\n",
        "import pandas as pd\n",
        "from sklearn.ensemble import AdaBoostClassifier\n",
        "from sklearn.model_selection import train_test_split\n",
        "from sklearn.metrics import accuracy_score\n",
        "from sklearn.impute import SimpleImputer  # Import SimpleImputer for missing values\n",
        "\n",
        "# Load your dataset (replace with your actual path)\n",
        "data = pd.read_csv('/content/drive/MyDrive/titanic .csv')\n",
        "\n",
        "# Define features (X) and target (y)\n",
        "X = data[['Pclass', 'Age', 'SibSp', 'Parch', 'Fare']]\n",
        "y = data['Survived']\n",
        "\n",
        "# Split data into training and testing sets\n",
        "X_train, X_test, y_train, y_test = train_test_split(X, y, test_size=0.2, random_state=42)\n",
        "\n",
        "# Impute missing values using SimpleImputer\n",
        "imputer = SimpleImputer(strategy='mean')  # or strategy='median', etc.\n",
        "X_train = imputer.fit_transform(X_train)\n",
        "X_test = imputer.transform(X_test)\n",
        "\n",
        "# Create and train the AdaBoost Classifier\n",
        "ada_clf = AdaBoostClassifier(n_estimators=50, random_state=42)\n",
        "ada_clf.fit(X_train, y_train)\n",
        "\n",
        "# Make predictions and calculate accuracy\n",
        "y_pred = ada_clf.predict(X_test)\n",
        "accuracy = accuracy_score(y_test, y_pred)\n",
        "print(f\"Accuracy: {accuracy}\")"
      ],
      "metadata": {
        "colab": {
          "base_uri": "https://localhost:8080/"
        },
        "id": "XLzuvS9Ta5x5",
        "outputId": "690d3f5d-5005-4426-ed35-762d72a28896"
      },
      "execution_count": null,
      "outputs": [
        {
          "output_type": "stream",
          "name": "stdout",
          "text": [
            "Accuracy: 0.6547619047619048\n"
          ]
        }
      ]
    },
    {
      "cell_type": "markdown",
      "source": [
        "15/ Train an AdaBoost Regressor and evaluate performance using Mean Absolute Error (MAE)"
      ],
      "metadata": {
        "id": "HY6-yikToG6d"
      }
    },
    {
      "cell_type": "code",
      "source": [
        "import pandas as pd\n",
        "from sklearn.ensemble import AdaBoostRegressor\n",
        "from sklearn.model_selection import train_test_split\n",
        "from sklearn.metrics import mean_absolute_error\n",
        "from sklearn.impute import SimpleImputer\n",
        "\n",
        "# Load the dataset\n",
        "data = pd.read_csv('/content/drive/MyDrive/titanic .csv')  # Replace with your dataset path\n",
        "\n",
        "# Define features (X) and target (y)\n",
        "# Replace with your actual feature and target columns\n",
        "X = data[['Pclass', 'Age', 'SibSp', 'Parch', 'Fare']]\n",
        "y = data['Survived']  # or any numerical column for prediction\n",
        "\n",
        "# Split the data into training and testing sets\n",
        "X_train, X_test, y_train, y_test = train_test_split(X, y, test_size=0.2, random_state=42)\n",
        "\n",
        "# Create an imputer to fill missing values with the mean\n",
        "imputer = SimpleImputer(strategy='mean')\n",
        "\n",
        "# Fit the imputer on the training data and transform both training and testing data\n",
        "X_train = imputer.fit_transform(X_train)\n",
        "X_test = imputer.transform(X_test)\n",
        "\n",
        "# Create an AdaBoost Regressor instance\n",
        "ada_regressor = AdaBoostRegressor(random_state=42)  # You can adjust hyperparameters here\n",
        "\n",
        "# Train the model\n",
        "ada_regressor.fit(X_train, y_train)\n",
        "\n",
        "# Make predictions on the test set\n",
        "y_pred = ada_regressor.predict(X_test)\n",
        "\n",
        "# Calculate Mean Absolute Error (MAE)\n",
        "mae = mean_absolute_error(y_test, y_pred)\n",
        "\n",
        "# Print the MAE\n",
        "print(f\"Mean Absolute Error (MAE): {mae}\")"
      ],
      "metadata": {
        "id": "cmg_tycCmIfh",
        "colab": {
          "base_uri": "https://localhost:8080/"
        },
        "outputId": "54b2be93-d256-4eb3-bf70-2bc4df39eae7"
      },
      "execution_count": null,
      "outputs": [
        {
          "output_type": "stream",
          "name": "stdout",
          "text": [
            "Mean Absolute Error (MAE): 0.4482211197055631\n"
          ]
        }
      ]
    },
    {
      "cell_type": "markdown",
      "source": [
        "16/ Train a Gradient Boosting Classifier on the Breast Cancer dataset and print feature importance."
      ],
      "metadata": {
        "id": "pyR_BzByofNi"
      }
    },
    {
      "cell_type": "code",
      "source": [
        "from sklearn.ensemble import GradientBoostingClassifier\n",
        "from sklearn.datasets import load_breast_cancer\n",
        "from sklearn.model_selection import train_test_split\n",
        "from sklearn.metrics import accuracy_score\n",
        "import pandas as pd\n",
        "\n",
        "\n",
        "data = load_breast_cancer()\n",
        "X = pd.DataFrame(data.data, columns=data.feature_names)\n",
        "y = data.target\n",
        "\n",
        "\n",
        "X_train, X_test, y_train, y_test = train_test_split(X, y, test_size=0.2, random_state=42)\n",
        "\n",
        "\n",
        "gbc = GradientBoostingClassifier(random_state=42)\n",
        "gbc.fit(X_train, y_train)\n",
        "\n",
        "\n",
        "feature_importance = gbc.feature_importances_\n",
        "feature_importance_df = pd.DataFrame({'Feature': data.feature_names, 'Importance': feature_importance})\n",
        "print(feature_importance_df.sort_values(by=['Importance'], ascending=False))"
      ],
      "metadata": {
        "colab": {
          "base_uri": "https://localhost:8080/"
        },
        "id": "CUen_59aofsy",
        "outputId": "2c6c151c-5717-4f6a-8500-df88a0d8c6fd"
      },
      "execution_count": null,
      "outputs": [
        {
          "output_type": "stream",
          "name": "stdout",
          "text": [
            "                    Feature  Importance\n",
            "7       mean concave points    0.450528\n",
            "27     worst concave points    0.240103\n",
            "20             worst radius    0.075589\n",
            "22          worst perimeter    0.051408\n",
            "21            worst texture    0.039886\n",
            "23               worst area    0.038245\n",
            "1              mean texture    0.027805\n",
            "26          worst concavity    0.018725\n",
            "16          concavity error    0.013068\n",
            "13               area error    0.008415\n",
            "10             radius error    0.006870\n",
            "24         worst smoothness    0.004811\n",
            "19  fractal dimension error    0.004224\n",
            "11            texture error    0.003604\n",
            "5          mean compactness    0.002996\n",
            "15        compactness error    0.002511\n",
            "4           mean smoothness    0.002467\n",
            "17     concave points error    0.002038\n",
            "28           worst symmetry    0.001478\n",
            "12          perimeter error    0.001157\n",
            "6            mean concavity    0.000922\n",
            "18           symmetry error    0.000703\n",
            "14         smoothness error    0.000556\n",
            "8             mean symmetry    0.000520\n",
            "25        worst compactness    0.000450\n",
            "3                 mean area    0.000425\n",
            "2            mean perimeter    0.000201\n",
            "29  worst fractal dimension    0.000175\n",
            "9    mean fractal dimension    0.000107\n",
            "0               mean radius    0.000013\n"
          ]
        }
      ]
    },
    {
      "cell_type": "markdown",
      "source": [
        "17/ Train a Gradient Boosting Regressor and evaluate using R-Squared Score."
      ],
      "metadata": {
        "id": "CH_fbokaogH2"
      }
    },
    {
      "cell_type": "code",
      "source": [],
      "metadata": {
        "colab": {
          "base_uri": "https://localhost:8080/"
        },
        "id": "3mFV5OpfqNox",
        "outputId": "769806af-402c-42bc-a314-82675394b117"
      },
      "execution_count": null,
      "outputs": [
        {
          "output_type": "stream",
          "name": "stdout",
          "text": [
            "Index(['PassengerId', 'Survived', 'Pclass', 'Name', 'Sex', 'Age', 'SibSp',\n",
            "       'Parch', 'Ticket', 'Fare', 'Cabin', 'Embarked'],\n",
            "      dtype='object')\n"
          ]
        }
      ]
    },
    {
      "cell_type": "markdown",
      "source": [],
      "metadata": {
        "id": "EH9tZVA5pMOL"
      }
    },
    {
      "cell_type": "code",
      "source": [
        "from sklearn.ensemble import GradientBoostingRegressor\n",
        "from sklearn.model_selection import train_test_split\n",
        "from sklearn.metrics import r2_score\n",
        "from sklearn.impute import SimpleImputer # Import SimpleImputer for handling missing values\n",
        "import pandas as pd\n",
        "\n",
        "# Load the dataset\n",
        "data = pd.read_csv('/content/drive/MyDrive/titanic .csv')\n",
        "\n",
        "# Select features and target variable\n",
        "X = data[['Age', 'Pclass']]\n",
        "y = data['Survived']\n",
        "\n",
        "# Split the data into training and testing sets\n",
        "X_train, X_test, y_train, y_test = train_test_split(X, y, test_size=0.2, random_state=42)\n",
        "\n",
        "# Create an imputer to fill missing values with the mean\n",
        "imputer = SimpleImputer(strategy='mean') # You can choose other strategies like 'median' or 'most_frequent'\n",
        "\n",
        "# Fit the imputer on the training data and transform both training and testing data\n",
        "X_train = imputer.fit_transform(X_train)\n",
        "X_test = imputer.transform(X_test)\n",
        "\n",
        "# Create and train the GradientBoostingRegressor\n",
        "gbr = GradientBoostingRegressor(random_state=42)\n",
        "gbr.fit(X_train, y_train)\n",
        "\n",
        "# Make predictions and eva\n",
        "y_pred = gbr.predict(X_test)\n",
        "r2 = r2_score(y_test, y_pred)\n",
        "print(f\"R-squared score: {r2}\")"
      ],
      "metadata": {
        "colab": {
          "base_uri": "https://localhost:8080/"
        },
        "id": "4VUCBzOwuA-4",
        "outputId": "c7f9994d-ccf0-4af6-ea8b-b49fc7acc546"
      },
      "execution_count": null,
      "outputs": [
        {
          "output_type": "stream",
          "name": "stdout",
          "text": [
            "R-squared score: -0.08003415060260144\n"
          ]
        }
      ]
    },
    {
      "cell_type": "markdown",
      "source": [
        "18/ Train an XGBoost Classifier on a dataset and compare accuracy with Gradient Boosting."
      ],
      "metadata": {
        "id": "ECJXaqbmwHdO"
      }
    },
    {
      "cell_type": "code",
      "source": [
        "!pip install xgboost==1.7.5"
      ],
      "metadata": {
        "id": "OsDPgUbMuxWj",
        "colab": {
          "base_uri": "https://localhost:8080/"
        },
        "outputId": "efb077ee-38a0-44d6-92fc-a768825104b1"
      },
      "execution_count": null,
      "outputs": [
        {
          "output_type": "stream",
          "name": "stdout",
          "text": [
            "Collecting xgboost==1.7.5\n",
            "  Downloading xgboost-1.7.5-py3-none-manylinux2014_x86_64.whl.metadata (1.9 kB)\n",
            "Requirement already satisfied: numpy in /usr/local/lib/python3.11/dist-packages (from xgboost==1.7.5) (2.0.2)\n",
            "Requirement already satisfied: scipy in /usr/local/lib/python3.11/dist-packages (from xgboost==1.7.5) (1.14.1)\n",
            "Downloading xgboost-1.7.5-py3-none-manylinux2014_x86_64.whl (200.3 MB)\n",
            "\u001b[2K   \u001b[90m━━━━━━━━━━━━━━━━━━━━━━━━━━━━━━━━━━━━━━━━\u001b[0m \u001b[32m200.3/200.3 MB\u001b[0m \u001b[31m4.8 MB/s\u001b[0m eta \u001b[36m0:00:00\u001b[0m\n",
            "\u001b[?25hInstalling collected packages: xgboost\n",
            "  Attempting uninstall: xgboost\n",
            "    Found existing installation: xgboost 2.1.4\n",
            "    Uninstalling xgboost-2.1.4:\n",
            "      Successfully uninstalled xgboost-2.1.4\n",
            "Successfully installed xgboost-1.7.5\n"
          ]
        }
      ]
    },
    {
      "cell_type": "code",
      "source": [
        "import xgboost as xgb\n",
        "from sklearn.ensemble import GradientBoostingClassifier\n",
        "from sklearn.model_selection import train_test_split\n",
        "from sklearn.metrics import accuracy_score\n",
        "import pandas as pd\n",
        "from sklearn.impute import SimpleImputer # Import SimpleImputer for handling missing values\n",
        "\n",
        "# Load the dataset\n",
        "data = pd.read_csv('/content/drive/MyDrive/titanic .csv')\n",
        "\n",
        "# Select features and target variable, and convert object types to numerical using one-hot encoding\n",
        "X = data.drop(['Survived','Name', 'Sex', 'Ticket', 'Cabin', 'Embarked'], axis=1)\n",
        "X = pd.get_dummies(X, columns=['Pclass'])  # One-hot encode 'Pclass' column\n",
        "y = data['Survived']\n",
        "\n",
        "# Split the data into training and testing sets\n",
        "X_train, X_test, y_train, y_test = train_test_split(X, y, test_size=0.2, random_state=42)\n",
        "\n",
        "# Create an imputer to fill missing values with the mean\n",
        "imputer = SimpleImputer(strategy='mean') # You can choose other strategies like 'median' or 'most_frequent'\n",
        "\n",
        "# Fit the imputer on the training data and transform both training and testing data\n",
        "X_train = imputer.fit_transform(X_train)\n",
        "X_test = imputer.transform(X_test)\n",
        "\n",
        "# Create and train the XGBoost classifier\n",
        "xgb_model = xgb.XGBClassifier(random_state=42)\n",
        "xgb_model.fit(X_train, y_train)\n",
        "\n",
        "# Create and train the Gradient Boosting classifier\n",
        "gb_model = GradientBoostingClassifier(random_state=42)\n",
        "gb_model.fit(X_train, y_train) # Now X_train and X_test have no missing values\n",
        "\n",
        "# Make predictions\n",
        "xgb_pred = xgb_model.predict(X_test)\n",
        "gb_pred = gb_model.predict(X_test)\n",
        "\n",
        "# Calculate accuracy scores\n",
        "xgb_accuracy = accuracy_score(y_test, xgb_pred)\n",
        "gb_accuracy = accuracy_score(y_test, gb_pred)\n",
        "\n",
        "# Print accuracy scores\n",
        "print(f\"XGBoost Accuracy: {xgb_accuracy}\")\n",
        "print(f\"Gradient Boosting Accuracy: {gb_accuracy}\")"
      ],
      "metadata": {
        "colab": {
          "base_uri": "https://localhost:8080/"
        },
        "id": "TIEP5AMfEzSR",
        "outputId": "8f731b85-3053-4480-b56d-b18325e62b12"
      },
      "execution_count": null,
      "outputs": [
        {
          "output_type": "stream",
          "name": "stdout",
          "text": [
            "XGBoost Accuracy: 0.6666666666666666\n",
            "Gradient Boosting Accuracy: 0.6428571428571429\n"
          ]
        }
      ]
    },
    {
      "cell_type": "markdown",
      "source": [
        "19/ Train a CatBoost Classifier and evaluate using F1-Score.\n"
      ],
      "metadata": {
        "id": "D3pZgq0PFUbn"
      }
    },
    {
      "cell_type": "code",
      "source": [
        "!pip install catboost"
      ],
      "metadata": {
        "colab": {
          "base_uri": "https://localhost:8080/"
        },
        "id": "Z4sojSHKF9aN",
        "outputId": "40a167aa-c210-4ee9-e65d-b1fa09482e6c"
      },
      "execution_count": null,
      "outputs": [
        {
          "output_type": "stream",
          "name": "stdout",
          "text": [
            "Requirement already satisfied: catboost in /usr/local/lib/python3.11/dist-packages (1.2.7)\n",
            "Requirement already satisfied: graphviz in /usr/local/lib/python3.11/dist-packages (from catboost) (0.20.3)\n",
            "Requirement already satisfied: matplotlib in /usr/local/lib/python3.11/dist-packages (from catboost) (3.10.0)\n",
            "Requirement already satisfied: numpy<2.0,>=1.16.0 in /usr/local/lib/python3.11/dist-packages (from catboost) (1.26.4)\n",
            "Requirement already satisfied: pandas>=0.24 in /usr/local/lib/python3.11/dist-packages (from catboost) (2.2.2)\n",
            "Requirement already satisfied: scipy in /usr/local/lib/python3.11/dist-packages (from catboost) (1.14.1)\n",
            "Requirement already satisfied: plotly in /usr/local/lib/python3.11/dist-packages (from catboost) (5.24.1)\n",
            "Requirement already satisfied: six in /usr/local/lib/python3.11/dist-packages (from catboost) (1.17.0)\n",
            "Requirement already satisfied: python-dateutil>=2.8.2 in /usr/local/lib/python3.11/dist-packages (from pandas>=0.24->catboost) (2.8.2)\n",
            "Requirement already satisfied: pytz>=2020.1 in /usr/local/lib/python3.11/dist-packages (from pandas>=0.24->catboost) (2025.1)\n",
            "Requirement already satisfied: tzdata>=2022.7 in /usr/local/lib/python3.11/dist-packages (from pandas>=0.24->catboost) (2025.1)\n",
            "Requirement already satisfied: contourpy>=1.0.1 in /usr/local/lib/python3.11/dist-packages (from matplotlib->catboost) (1.3.1)\n",
            "Requirement already satisfied: cycler>=0.10 in /usr/local/lib/python3.11/dist-packages (from matplotlib->catboost) (0.12.1)\n",
            "Requirement already satisfied: fonttools>=4.22.0 in /usr/local/lib/python3.11/dist-packages (from matplotlib->catboost) (4.56.0)\n",
            "Requirement already satisfied: kiwisolver>=1.3.1 in /usr/local/lib/python3.11/dist-packages (from matplotlib->catboost) (1.4.8)\n",
            "Requirement already satisfied: packaging>=20.0 in /usr/local/lib/python3.11/dist-packages (from matplotlib->catboost) (24.2)\n",
            "Requirement already satisfied: pillow>=8 in /usr/local/lib/python3.11/dist-packages (from matplotlib->catboost) (11.1.0)\n",
            "Requirement already satisfied: pyparsing>=2.3.1 in /usr/local/lib/python3.11/dist-packages (from matplotlib->catboost) (3.2.1)\n",
            "Requirement already satisfied: tenacity>=6.2.0 in /usr/local/lib/python3.11/dist-packages (from plotly->catboost) (9.0.0)\n"
          ]
        }
      ]
    },
    {
      "cell_type": "code",
      "source": [],
      "metadata": {
        "colab": {
          "base_uri": "https://localhost:8080/"
        },
        "id": "Mu6wDbIjMBit",
        "outputId": "22bccaac-f732-4c34-baba-281a5cc87641"
      },
      "execution_count": null,
      "outputs": [
        {
          "output_type": "stream",
          "name": "stdout",
          "text": [
            "Requirement already satisfied: numpy in /usr/local/lib/python3.11/dist-packages (1.26.4)\n",
            "Collecting numpy\n",
            "  Downloading numpy-2.2.4-cp311-cp311-manylinux_2_17_x86_64.manylinux2014_x86_64.whl.metadata (62 kB)\n",
            "\u001b[2K     \u001b[90m━━━━━━━━━━━━━━━━━━━━━━━━━━━━━━━━━━━━━━━━\u001b[0m \u001b[32m62.0/62.0 kB\u001b[0m \u001b[31m3.9 MB/s\u001b[0m eta \u001b[36m0:00:00\u001b[0m\n",
            "\u001b[?25hDownloading numpy-2.2.4-cp311-cp311-manylinux_2_17_x86_64.manylinux2014_x86_64.whl (16.4 MB)\n",
            "\u001b[2K   \u001b[90m━━━━━━━━━━━━━━━━━━━━━━━━━━━━━━━━━━━━━━━━\u001b[0m \u001b[32m16.4/16.4 MB\u001b[0m \u001b[31m50.7 MB/s\u001b[0m eta \u001b[36m0:00:00\u001b[0m\n",
            "\u001b[?25hInstalling collected packages: numpy\n",
            "  Attempting uninstall: numpy\n",
            "    Found existing installation: numpy 1.26.4\n",
            "    Uninstalling numpy-1.26.4:\n",
            "      Successfully uninstalled numpy-1.26.4\n",
            "\u001b[31mERROR: pip's dependency resolver does not currently take into account all the packages that are installed. This behaviour is the source of the following dependency conflicts.\n",
            "catboost 1.2.7 requires numpy<2.0,>=1.16.0, but you have numpy 2.2.4 which is incompatible.\n",
            "tensorflow 2.18.0 requires numpy<2.1.0,>=1.26.0, but you have numpy 2.2.4 which is incompatible.\n",
            "numba 0.60.0 requires numpy<2.1,>=1.22, but you have numpy 2.2.4 which is incompatible.\u001b[0m\u001b[31m\n",
            "\u001b[0mSuccessfully installed numpy-2.2.4\n",
            "Requirement already satisfied: catboost in /usr/local/lib/python3.11/dist-packages (1.2.7)\n",
            "Requirement already satisfied: graphviz in /usr/local/lib/python3.11/dist-packages (from catboost) (0.20.3)\n",
            "Requirement already satisfied: matplotlib in /usr/local/lib/python3.11/dist-packages (from catboost) (3.10.0)\n",
            "Collecting numpy<2.0,>=1.16.0 (from catboost)\n",
            "  Using cached numpy-1.26.4-cp311-cp311-manylinux_2_17_x86_64.manylinux2014_x86_64.whl.metadata (61 kB)\n",
            "Requirement already satisfied: pandas>=0.24 in /usr/local/lib/python3.11/dist-packages (from catboost) (2.2.2)\n",
            "Requirement already satisfied: scipy in /usr/local/lib/python3.11/dist-packages (from catboost) (1.14.1)\n",
            "Requirement already satisfied: plotly in /usr/local/lib/python3.11/dist-packages (from catboost) (5.24.1)\n",
            "Requirement already satisfied: six in /usr/local/lib/python3.11/dist-packages (from catboost) (1.17.0)\n",
            "Requirement already satisfied: python-dateutil>=2.8.2 in /usr/local/lib/python3.11/dist-packages (from pandas>=0.24->catboost) (2.8.2)\n",
            "Requirement already satisfied: pytz>=2020.1 in /usr/local/lib/python3.11/dist-packages (from pandas>=0.24->catboost) (2025.1)\n",
            "Requirement already satisfied: tzdata>=2022.7 in /usr/local/lib/python3.11/dist-packages (from pandas>=0.24->catboost) (2025.1)\n",
            "Requirement already satisfied: contourpy>=1.0.1 in /usr/local/lib/python3.11/dist-packages (from matplotlib->catboost) (1.3.1)\n",
            "Requirement already satisfied: cycler>=0.10 in /usr/local/lib/python3.11/dist-packages (from matplotlib->catboost) (0.12.1)\n",
            "Requirement already satisfied: fonttools>=4.22.0 in /usr/local/lib/python3.11/dist-packages (from matplotlib->catboost) (4.56.0)\n",
            "Requirement already satisfied: kiwisolver>=1.3.1 in /usr/local/lib/python3.11/dist-packages (from matplotlib->catboost) (1.4.8)\n",
            "Requirement already satisfied: packaging>=20.0 in /usr/local/lib/python3.11/dist-packages (from matplotlib->catboost) (24.2)\n",
            "Requirement already satisfied: pillow>=8 in /usr/local/lib/python3.11/dist-packages (from matplotlib->catboost) (11.1.0)\n",
            "Requirement already satisfied: pyparsing>=2.3.1 in /usr/local/lib/python3.11/dist-packages (from matplotlib->catboost) (3.2.1)\n",
            "Requirement already satisfied: tenacity>=6.2.0 in /usr/local/lib/python3.11/dist-packages (from plotly->catboost) (9.0.0)\n",
            "Using cached numpy-1.26.4-cp311-cp311-manylinux_2_17_x86_64.manylinux2014_x86_64.whl (18.3 MB)\n",
            "Installing collected packages: numpy\n",
            "  Attempting uninstall: numpy\n",
            "    Found existing installation: numpy 2.2.4\n",
            "    Uninstalling numpy-2.2.4:\n",
            "      Successfully uninstalled numpy-2.2.4\n",
            "Successfully installed numpy-1.26.4\n"
          ]
        }
      ]
    },
    {
      "cell_type": "code",
      "source": [
        "from catboost import CatBoostClassifier\n",
        "from sklearn.model_selection import train_test_split\n",
        "from sklearn.metrics import f1_score\n",
        "import pandas as pd\n",
        "\n",
        "\n",
        "\n",
        "# Load your dataset\n",
        "data = pd.read_csv('/content/drive/MyDrive/titanic .csv')  # Replace with your dataset path\n",
        "\n",
        "# Define features (X) and target (y)\n",
        "X = data[['Pclass', 'Age', 'SibSp', 'Parch', 'Fare']]  # Replace with your features\n",
        "y = data['Survived']  # Replace with your target column\n",
        "\n",
        "# Split data into training and testing sets\n",
        "X_train, X_test, y_train, y_test = train_test_split(X, y, test_size=0.2, random_state=42)\n",
        "\n",
        "\n",
        "\n",
        "# Create a CatBoost Classifier instance\n",
        "catboost_model = CatBoostClassifier(iterations=100,  # Adjust as needed\n",
        "                                    learning_rate=0.1,  # Adjust as needed\n",
        "                                    random_seed=42,\n",
        "                                    loss_function='Logloss',  # For binary classification\n",
        "                                    eval_metric='F1')  # Evaluate using F1-Score\n",
        "\n",
        "# Train the model\n",
        "catboost_model.fit(X_train, y_train, eval_set=(X_test, y_test), verbose=False)\n",
        "\n",
        "\n",
        "# Make predictions on the test set\n",
        "y_pred = catboost_model.predict(X_test)\n",
        "\n",
        "# Calculate the F1-Score\n",
        "f1 = f1_score(y_test, y_pred)\n",
        "\n",
        "# Print the F1-Score\n",
        "print(f\"F1-Score: {f1}\")"
      ],
      "metadata": {
        "colab": {
          "base_uri": "https://localhost:8080/",
          "height": 408
        },
        "id": "ixheisJMFnL4",
        "outputId": "13461936-f7ff-4ca7-c4dd-5efb6850da74"
      },
      "execution_count": null,
      "outputs": [
        {
          "output_type": "error",
          "ename": "ValueError",
          "evalue": "numpy.dtype size changed, may indicate binary incompatibility. Expected 96 from C header, got 88 from PyObject",
          "traceback": [
            "\u001b[0;31m---------------------------------------------------------------------------\u001b[0m",
            "\u001b[0;31mValueError\u001b[0m                                Traceback (most recent call last)",
            "\u001b[0;32m<ipython-input-13-32ff7399866d>\u001b[0m in \u001b[0;36m<cell line: 0>\u001b[0;34m()\u001b[0m\n\u001b[0;32m----> 1\u001b[0;31m \u001b[0;32mfrom\u001b[0m \u001b[0mcatboost\u001b[0m \u001b[0;32mimport\u001b[0m \u001b[0mCatBoostClassifier\u001b[0m\u001b[0;34m\u001b[0m\u001b[0;34m\u001b[0m\u001b[0m\n\u001b[0m\u001b[1;32m      2\u001b[0m \u001b[0;32mfrom\u001b[0m \u001b[0msklearn\u001b[0m\u001b[0;34m.\u001b[0m\u001b[0mmodel_selection\u001b[0m \u001b[0;32mimport\u001b[0m \u001b[0mtrain_test_split\u001b[0m\u001b[0;34m\u001b[0m\u001b[0;34m\u001b[0m\u001b[0m\n\u001b[1;32m      3\u001b[0m \u001b[0;32mfrom\u001b[0m \u001b[0msklearn\u001b[0m\u001b[0;34m.\u001b[0m\u001b[0mmetrics\u001b[0m \u001b[0;32mimport\u001b[0m \u001b[0mf1_score\u001b[0m\u001b[0;34m\u001b[0m\u001b[0;34m\u001b[0m\u001b[0m\n\u001b[1;32m      4\u001b[0m \u001b[0;32mimport\u001b[0m \u001b[0mpandas\u001b[0m \u001b[0;32mas\u001b[0m \u001b[0mpd\u001b[0m\u001b[0;34m\u001b[0m\u001b[0;34m\u001b[0m\u001b[0m\n\u001b[1;32m      5\u001b[0m \u001b[0;34m\u001b[0m\u001b[0m\n",
            "\u001b[0;32m/usr/local/lib/python3.11/dist-packages/catboost/__init__.py\u001b[0m in \u001b[0;36m<module>\u001b[0;34m\u001b[0m\n\u001b[0;32m----> 1\u001b[0;31m from .core import (\n\u001b[0m\u001b[1;32m      2\u001b[0m     \u001b[0mFeaturesData\u001b[0m\u001b[0;34m,\u001b[0m \u001b[0mEFstrType\u001b[0m\u001b[0;34m,\u001b[0m \u001b[0mEShapCalcType\u001b[0m\u001b[0;34m,\u001b[0m \u001b[0mEFeaturesSelectionAlgorithm\u001b[0m\u001b[0;34m,\u001b[0m \u001b[0mEFeaturesSelectionGrouping\u001b[0m\u001b[0;34m,\u001b[0m\u001b[0;34m\u001b[0m\u001b[0;34m\u001b[0m\u001b[0m\n\u001b[1;32m      3\u001b[0m     \u001b[0mPool\u001b[0m\u001b[0;34m,\u001b[0m \u001b[0mCatBoost\u001b[0m\u001b[0;34m,\u001b[0m \u001b[0mCatBoostClassifier\u001b[0m\u001b[0;34m,\u001b[0m \u001b[0mCatBoostRegressor\u001b[0m\u001b[0;34m,\u001b[0m \u001b[0mCatBoostRanker\u001b[0m\u001b[0;34m,\u001b[0m \u001b[0mCatBoostError\u001b[0m\u001b[0;34m,\u001b[0m \u001b[0mcv\u001b[0m\u001b[0;34m,\u001b[0m \u001b[0msample_gaussian_process\u001b[0m\u001b[0;34m,\u001b[0m \u001b[0mtrain\u001b[0m\u001b[0;34m,\u001b[0m\u001b[0;34m\u001b[0m\u001b[0;34m\u001b[0m\u001b[0m\n\u001b[1;32m      4\u001b[0m     \u001b[0msum_models\u001b[0m\u001b[0;34m,\u001b[0m \u001b[0m_have_equal_features\u001b[0m\u001b[0;34m,\u001b[0m \u001b[0mto_regressor\u001b[0m\u001b[0;34m,\u001b[0m \u001b[0mto_classifier\u001b[0m\u001b[0;34m,\u001b[0m \u001b[0mto_ranker\u001b[0m\u001b[0;34m,\u001b[0m \u001b[0mMultiRegressionCustomMetric\u001b[0m\u001b[0;34m,\u001b[0m\u001b[0;34m\u001b[0m\u001b[0;34m\u001b[0m\u001b[0m\n\u001b[1;32m      5\u001b[0m     \u001b[0mMultiRegressionCustomObjective\u001b[0m\u001b[0;34m,\u001b[0m \u001b[0mMultiTargetCustomMetric\u001b[0m\u001b[0;34m,\u001b[0m \u001b[0mMultiTargetCustomObjective\u001b[0m\u001b[0;34m\u001b[0m\u001b[0;34m\u001b[0m\u001b[0m\n",
            "\u001b[0;32m/usr/local/lib/python3.11/dist-packages/catboost/core.py\u001b[0m in \u001b[0;36m<module>\u001b[0;34m\u001b[0m\n\u001b[1;32m     43\u001b[0m \u001b[0;34m\u001b[0m\u001b[0m\n\u001b[1;32m     44\u001b[0m \u001b[0;34m\u001b[0m\u001b[0m\n\u001b[0;32m---> 45\u001b[0;31m \u001b[0;32mfrom\u001b[0m \u001b[0;34m.\u001b[0m\u001b[0mplot_helpers\u001b[0m \u001b[0;32mimport\u001b[0m \u001b[0msave_plot_file\u001b[0m\u001b[0;34m,\u001b[0m \u001b[0mtry_plot_offline\u001b[0m\u001b[0;34m,\u001b[0m \u001b[0mOfflineMetricVisualizer\u001b[0m\u001b[0;34m\u001b[0m\u001b[0;34m\u001b[0m\u001b[0m\n\u001b[0m\u001b[1;32m     46\u001b[0m \u001b[0;32mfrom\u001b[0m \u001b[0;34m.\u001b[0m \u001b[0;32mimport\u001b[0m \u001b[0m_catboost\u001b[0m\u001b[0;34m\u001b[0m\u001b[0;34m\u001b[0m\u001b[0m\n\u001b[1;32m     47\u001b[0m \u001b[0;32mfrom\u001b[0m \u001b[0;34m.\u001b[0m\u001b[0mmetrics\u001b[0m \u001b[0;32mimport\u001b[0m \u001b[0mBuiltinMetric\u001b[0m\u001b[0;34m\u001b[0m\u001b[0;34m\u001b[0m\u001b[0m\n",
            "\u001b[0;32m/usr/local/lib/python3.11/dist-packages/catboost/plot_helpers.py\u001b[0m in \u001b[0;36m<module>\u001b[0;34m\u001b[0m\n\u001b[1;32m      3\u001b[0m \u001b[0;32mimport\u001b[0m \u001b[0mwarnings\u001b[0m\u001b[0;34m\u001b[0m\u001b[0;34m\u001b[0m\u001b[0m\n\u001b[1;32m      4\u001b[0m \u001b[0;34m\u001b[0m\u001b[0m\n\u001b[0;32m----> 5\u001b[0;31m \u001b[0;32mfrom\u001b[0m \u001b[0;34m.\u001b[0m \u001b[0;32mimport\u001b[0m \u001b[0m_catboost\u001b[0m\u001b[0;34m\u001b[0m\u001b[0;34m\u001b[0m\u001b[0m\n\u001b[0m\u001b[1;32m      6\u001b[0m \u001b[0mfspath\u001b[0m \u001b[0;34m=\u001b[0m \u001b[0m_catboost\u001b[0m\u001b[0;34m.\u001b[0m\u001b[0mfspath\u001b[0m\u001b[0;34m\u001b[0m\u001b[0;34m\u001b[0m\u001b[0m\n\u001b[1;32m      7\u001b[0m \u001b[0;34m\u001b[0m\u001b[0m\n",
            "\u001b[0;32m_catboost.pyx\u001b[0m in \u001b[0;36minit _catboost\u001b[0;34m()\u001b[0m\n",
            "\u001b[0;31mValueError\u001b[0m: numpy.dtype size changed, may indicate binary incompatibility. Expected 96 from C header, got 88 from PyObject"
          ]
        }
      ]
    },
    {
      "cell_type": "markdown",
      "source": [
        "20/ Train an XGBoost Regressor and evaluate using Mean Squared Error (MSE).\n"
      ],
      "metadata": {
        "id": "OU_sc7ImNieX"
      }
    },
    {
      "cell_type": "code",
      "source": [
        "import xgboost as xgb\n",
        "from sklearn.model_selection import train_test_split\n",
        "from sklearn.metrics import mean_squared_error\n",
        "import pandas as pd\n",
        "\n",
        "# Load your dataset\n",
        "data = pd.read_csv('/content/drive/MyDrive/titanic .csv')  # Replace with your dataset path\n",
        "\n",
        "# Define features (X) and target (y)\n",
        "X = data[['Ticket', 'Pclass']]  # Replace with your feature columns\n",
        "y = data['Survived']  # Replace with your target variable column\n",
        "\n",
        "# Convert 'Ticket' column to numerical representation\n",
        "# For example, using Label Encoding:\n",
        "from sklearn.preprocessing import LabelEncoder\n",
        "le = LabelEncoder()\n",
        "X['Ticket'] = le.fit_transform(X['Ticket'])\n",
        "\n",
        "# Alternatively, you can drop the 'Ticket' column if it's not relevant:\n",
        "# X = data[['Pclass']]\n",
        "\n",
        "# Split data into training and testing sets\n",
        "X_train, X_test, y_train, y_test = train_test_split(X, y, test_size=0.2, random_state=42)\n",
        "\n",
        "# Create an XGBoost Regressor instance\n",
        "xgb_regressor = xgb.XGBRegressor(objective='reg:squarederror', random_state=42)\n",
        "\n",
        "# Train the model\n",
        "xgb_regressor.fit(X_train, y_train)\n",
        "\n",
        "# Make predictions on the test set\n",
        "y_pred = xgb_regressor.predict(X_test)\n",
        "\n",
        "# Calculate Mean Squared Error (MSE)\n",
        "mse = mean_squared_error(y_test, y_pred)\n",
        "\n",
        "# Print the MSE\n",
        "print(f\"Mean Squared Error (MSE): {mse}\")"
      ],
      "metadata": {
        "colab": {
          "base_uri": "https://localhost:8080/"
        },
        "id": "NdcrKHYROS_j",
        "outputId": "e4bb067c-89bf-4fb8-a3ab-d74202da4144"
      },
      "execution_count": null,
      "outputs": [
        {
          "output_type": "stream",
          "name": "stderr",
          "text": [
            "<ipython-input-16-e181bed5a68b>:17: SettingWithCopyWarning: \n",
            "A value is trying to be set on a copy of a slice from a DataFrame.\n",
            "Try using .loc[row_indexer,col_indexer] = value instead\n",
            "\n",
            "See the caveats in the documentation: https://pandas.pydata.org/pandas-docs/stable/user_guide/indexing.html#returning-a-view-versus-a-copy\n",
            "  X['Ticket'] = le.fit_transform(X['Ticket'])\n"
          ]
        },
        {
          "output_type": "stream",
          "name": "stdout",
          "text": [
            "Mean Squared Error (MSE): 0.41089603304862976\n"
          ]
        }
      ]
    },
    {
      "cell_type": "markdown",
      "source": [
        "21/ Train an AdaBoost Classifier and visualize feature importance."
      ],
      "metadata": {
        "id": "im0EKWpSRtDH"
      }
    },
    {
      "cell_type": "code",
      "source": [
        "import pandas as pd\n",
        "from sklearn.ensemble import AdaBoostClassifier\n",
        "from sklearn.model_selection import train_test_split\n",
        "from sklearn.metrics import accuracy_score\n",
        "from sklearn.impute import SimpleImputer # Import SimpleImputer for missing values\n",
        "import matplotlib.pyplot as plt\n",
        "\n",
        "# Load your dataset\n",
        "data = pd.read_csv('/content/drive/MyDrive/titanic .csv')\n",
        "\n",
        "# Define features (X) and target (y)\n",
        "X = data[['Pclass', 'Age', 'SibSp', 'Parch', 'Fare']]\n",
        "y = data['Survived']\n",
        "\n",
        "# Split data into training and testing sets\n",
        "X_train, X_test, y_train, y_test = train_test_split(X, y, test_size=0.2, random_state=42)\n",
        "\n",
        "# Create an imputer to fill missing values with the mean\n",
        "imputer = SimpleImputer(strategy='mean') # or strategy='median'\n",
        "\n",
        "# Fit the imputer on the training data and transform both training and testing data\n",
        "X_train = imputer.fit_transform(X_train)\n",
        "X_test = imputer.transform(X_test)\n",
        "\n",
        "# Create and train the AdaBoost Classifier\n",
        "ada_clf = AdaBoostClassifier(n_estimators=50, random_state=42)\n",
        "ada_clf.fit(X_train, y_train)\n",
        "\n",
        "# Make predictions and calculate accuracy\n",
        "y_pred = ada_clf.predict(X_test)\n",
        "accuracy = accuracy_score(y_test, y_pred)\n",
        "print(f\"Accuracy: {accuracy}\")\n",
        "\n",
        "# Get feature importances\n",
        "feature_importances = ada_clf.feature_importances_\n",
        "\n",
        "# Create a DataFrame for visualization\n",
        "feature_names = ['Pclass', 'Age', 'SibSp', 'Parch', 'Fare'] # Since X is now a numpy array\n",
        "feature_importance_df = pd.DataFrame({'Feature': feature_names, 'Importance': feature_importances})\n",
        "feature_importance_df = feature_importance_df.sort_values(by=['Importance'], ascending=False)\n",
        "\n",
        "# Visualize feature importances using matplotlib\n",
        "plt.figure(figsize=(10, 6))\n",
        "plt.bar(feature_importance_df['Feature'], feature_importance_df['Importance'])\n",
        "plt.xlabel(\"Features\")\n",
        "plt.ylabel(\"Importance\")\n",
        "plt.title(\"Feature Importance in AdaBoost Classifier\")\n",
        "plt.xticks(rotation=45, ha='right')  # Rotate x-axis labels for better readability\n",
        "plt.tight_layout()\n",
        "plt.show()"
      ],
      "metadata": {
        "colab": {
          "base_uri": "https://localhost:8080/",
          "height": 482
        },
        "id": "Yx7JU8UzR76D",
        "outputId": "d6ecea41-7080-48ae-8ed5-e9dd5d836d9a"
      },
      "execution_count": null,
      "outputs": [
        {
          "output_type": "stream",
          "name": "stdout",
          "text": [
            "Accuracy: 0.6547619047619048\n"
          ]
        },
        {
          "output_type": "display_data",
          "data": {
            "text/plain": [
              "<Figure size 1000x600 with 1 Axes>"
            ],
            "image/png": "[encoded data removed]"
          },
          "metadata": {}
        }
      ]
    },
    {
      "cell_type": "markdown",
      "source": [
        "22/ Train a Gradient Boosting Regressor and plot learning curves."
      ],
      "metadata": {
        "id": "mLWSC5OOSumw"
      }
    },
    {
      "cell_type": "code",
      "source": [
        "import numpy as np\n",
        "import pandas as pd\n",
        "import matplotlib.pyplot as plt\n",
        "from sklearn.ensemble import GradientBoostingRegressor\n",
        "from sklearn.model_selection import learning_curve\n",
        "from sklearn.model_selection import train_test_split\n",
        "from sklearn.preprocessing import LabelEncoder  # Import LabelEncoder\n",
        "\n",
        "# Load your dataset\n",
        "data = pd.read_csv('/content/drive/MyDrive/titanic .csv')  # Replace with your dataset path\n",
        "\n",
        "# Define features (X) and target (y)\n",
        "X = data[['Pclass', 'Ticket']]  # Replace with your feature columns\n",
        "y = data['Survived']  # Replace with your target variable column\n",
        "\n",
        "# Convert 'Ticket' column to numerical representation using Label Encoding\n",
        "le = LabelEncoder()\n",
        "X['Ticket'] = le.fit_transform(X['Ticket'])\n",
        "\n",
        "# Split data into training and testing sets\n",
        "X_train, X_test, y_train, y_test = train_test_split(X, y, test_size=0.2, random_state=42)\n",
        "\n",
        "# Create a Gradient Boosting Regressor instance\n",
        "gbr = GradientBoostingRegressor(random_state=42)  # You can adjust hyperparameters here\n",
        "\n",
        "# Train the model\n",
        "gbr.fit(X_train, y_train)\n",
        "\n",
        "# Generate learning curves\n",
        "train_sizes, train_scores, test_scores = learning_curve(\n",
        "    gbr, X, y, cv=5, scoring='neg_mean_squared_error', train_sizes=np.linspace(0.1, 1.0, 10)\n",
        ")\n",
        "\n",
        "# Calculate mean and standard deviation of training and testing scores\n",
        "train_mean = -np.mean(train_scores, axis=1)\n",
        "train_std = np.std(train_scores, axis=1)\n",
        "test_mean = -np.mean(test_scores, axis=1)\n",
        "test_std = np.std(test_scores, axis=1)\n",
        "\n",
        "# Plot the learning curves\n",
        "plt.figure(figsize=(10, 6))\n",
        "plt.plot(train_sizes, train_mean, label='Training Score', color='blue')\n",
        "plt.fill_between(train_sizes, train_mean - train_std, train_mean + train_std, alpha=0.2, color='blue')\n",
        "plt.plot(train_sizes, test_mean, label='Testing Score', color='red')\n",
        "plt.fill_between(train_sizes, test_mean - test_std, test_mean + test_std, alpha=0.2, color='red')\n",
        "plt.xlabel('Number of Training Samples')\n",
        "plt.ylabel('Negative Mean Squared Error')\n",
        "plt.title('Learning Curves for Gradient Boosting Regressor')\n",
        "plt.legend(loc='best')\n",
        "plt.grid(True)\n",
        "plt.show()"
      ],
      "metadata": {
        "colab": {
          "base_uri": "https://localhost:8080/",
          "height": 627
        },
        "id": "3XTugDIaTbbY",
        "outputId": "0e9ec110-f54c-48a1-8b69-bf8e2a941375"
      },
      "execution_count": null,
      "outputs": [
        {
          "output_type": "stream",
          "name": "stderr",
          "text": [
            "<ipython-input-20-fa04a15b7c8a>:18: SettingWithCopyWarning: \n",
            "A value is trying to be set on a copy of a slice from a DataFrame.\n",
            "Try using .loc[row_indexer,col_indexer] = value instead\n",
            "\n",
            "See the caveats in the documentation: https://pandas.pydata.org/pandas-docs/stable/user_guide/indexing.html#returning-a-view-versus-a-copy\n",
            "  X['Ticket'] = le.fit_transform(X['Ticket'])\n"
          ]
        },
        {
          "output_type": "display_data",
          "data": {
            "text/plain": [
              "<Figure size 1000x600 with 1 Axes>"
            ],
            "image/png": "[encoded data removed]"
          },
          "metadata": {}
        }
      ]
    },
    {
      "cell_type": "markdown",
      "source": [
        "23/ Train an XGBoost Classifier and visualize feature importance."
      ],
      "metadata": {
        "id": "0dDlUBq2T3o2"
      }
    },
    {
      "cell_type": "code",
      "source": [
        "import xgboost as xgb\n",
        "import pandas as pd\n",
        "from sklearn.model_selection import train_test_split\n",
        "from sklearn.metrics import accuracy_score\n",
        "from sklearn.preprocessing import LabelEncoder  # Import LabelEncoder\n",
        "import matplotlib.pyplot as plt\n",
        "\n",
        "# Load your dataset\n",
        "data = pd.read_csv('/content/drive/MyDrive/titanic .csv')\n",
        "\n",
        "# Define features (X) and target (y)\n",
        "X = data[['Pclass', 'Sex', 'Age', 'SibSp', 'Parch', 'Fare', 'Embarked','Ticket']]\n",
        "y = data['Survived']\n",
        "\n",
        "# Convert categorical features to numerical using Label Encoding\n",
        "categorical_features = ['Sex', 'Embarked','Ticket']\n",
        "for feature in categorical_features:\n",
        "    le = LabelEncoder()\n",
        "    X[feature] = le.fit_transform(X[feature])\n",
        "\n",
        "# Split data into training and testing sets\n",
        "X_train, X_test, y_train, y_test = train_test_split(X, y, test_size=0.2, random_state=42)\n",
        "\n",
        "# Create and train the XGBoost classifier\n",
        "xgb_classifier = xgb.XGBClassifier(random_state=42)\n",
        "xgb_classifier.fit(X_train, y_train)\n",
        "\n",
        "# Make predictions and calculate accuracy\n",
        "y_pred = xgb_classifier.predict(X_test)\n",
        "accuracy = accuracy_score(y_test, y_pred)\n",
        "print(f\"Accuracy: {accuracy}\")\n",
        "\n",
        "# Get feature importances and visualize\n",
        "feature_importances = xgb_classifier.feature_importances_\n",
        "feature_names = X.columns\n",
        "\n",
        "# Create a DataFrame for visualization\n",
        "feature_importance_df = pd.DataFrame({'Feature': feature_names, 'Importance': feature_importances})\n",
        "feature_importance_df = feature_importance_df.sort_values(by=['Importance'], ascending=False)\n",
        "\n",
        "# Visualize feature importances\n",
        "plt.figure(figsize=(10, 6))\n",
        "plt.bar(feature_importance_df['Feature'], feature_importance_df['Importance'])\n",
        "plt.xlabel(\"Features\")\n",
        "plt.ylabel(\"Importance\")\n",
        "plt.title(\"Feature Importance in XGBoost Classifier\")\n",
        "plt.xticks(rotation=45, ha='right')\n",
        "plt.tight_layout()\n",
        "plt.show()"
      ],
      "metadata": {
        "colab": {
          "base_uri": "https://localhost:8080/",
          "height": 815
        },
        "id": "z1xnkKoYTtjf",
        "outputId": "f3cae1db-6667-4e48-bfbb-4df36c89c66a"
      },
      "execution_count": null,
      "outputs": [
        {
          "output_type": "stream",
          "name": "stderr",
          "text": [
            "<ipython-input-21-250e6e94c001>:19: SettingWithCopyWarning: \n",
            "A value is trying to be set on a copy of a slice from a DataFrame.\n",
            "Try using .loc[row_indexer,col_indexer] = value instead\n",
            "\n",
            "See the caveats in the documentation: https://pandas.pydata.org/pandas-docs/stable/user_guide/indexing.html#returning-a-view-versus-a-copy\n",
            "  X[feature] = le.fit_transform(X[feature])\n",
            "<ipython-input-21-250e6e94c001>:19: SettingWithCopyWarning: \n",
            "A value is trying to be set on a copy of a slice from a DataFrame.\n",
            "Try using .loc[row_indexer,col_indexer] = value instead\n",
            "\n",
            "See the caveats in the documentation: https://pandas.pydata.org/pandas-docs/stable/user_guide/indexing.html#returning-a-view-versus-a-copy\n",
            "  X[feature] = le.fit_transform(X[feature])\n",
            "<ipython-input-21-250e6e94c001>:19: SettingWithCopyWarning: \n",
            "A value is trying to be set on a copy of a slice from a DataFrame.\n",
            "Try using .loc[row_indexer,col_indexer] = value instead\n",
            "\n",
            "See the caveats in the documentation: https://pandas.pydata.org/pandas-docs/stable/user_guide/indexing.html#returning-a-view-versus-a-copy\n",
            "  X[feature] = le.fit_transform(X[feature])\n"
          ]
        },
        {
          "output_type": "stream",
          "name": "stdout",
          "text": [
            "Accuracy: 1.0\n"
          ]
        },
        {
          "output_type": "display_data",
          "data": {
            "text/plain": [
              "<Figure size 1000x600 with 1 Axes>"
            ],
            "image/png": "[encoded data removed]"
          },
          "metadata": {}
        }
      ]
    },
    {
      "cell_type": "markdown",
      "source": [
        "24/ Train a CatBoost Classifier and plot the confusion matrix."
      ],
      "metadata": {
        "id": "jkkhbhKbUTvs"
      }
    },
    {
      "cell_type": "code",
      "source": [
        "!pip install catboost\n"
      ],
      "metadata": {
        "colab": {
          "base_uri": "https://localhost:8080/"
        },
        "id": "KDqk6aNqFRWV",
        "outputId": "e0285309-01bc-4a04-99f0-919a853cd3ce"
      },
      "execution_count": null,
      "outputs": [
        {
          "output_type": "stream",
          "name": "stdout",
          "text": [
            "Collecting catboost\n",
            "  Downloading catboost-1.2.7-cp311-cp311-manylinux2014_x86_64.whl.metadata (1.2 kB)\n",
            "Requirement already satisfied: graphviz in /usr/local/lib/python3.11/dist-packages (from catboost) (0.20.3)\n",
            "Requirement already satisfied: matplotlib in /usr/local/lib/python3.11/dist-packages (from catboost) (3.10.0)\n",
            "Collecting numpy<2.0,>=1.16.0 (from catboost)\n",
            "  Downloading numpy-1.26.4-cp311-cp311-manylinux_2_17_x86_64.manylinux2014_x86_64.whl.metadata (61 kB)\n",
            "\u001b[2K     \u001b[90m━━━━━━━━━━━━━━━━━━━━━━━━━━━━━━━━━━━━━━━━\u001b[0m \u001b[32m61.0/61.0 kB\u001b[0m \u001b[31m1.9 MB/s\u001b[0m eta \u001b[36m0:00:00\u001b[0m\n",
            "\u001b[?25hRequirement already satisfied: pandas>=0.24 in /usr/local/lib/python3.11/dist-packages (from catboost) (2.2.2)\n",
            "Requirement already satisfied: scipy in /usr/local/lib/python3.11/dist-packages (from catboost) (1.14.1)\n",
            "Requirement already satisfied: plotly in /usr/local/lib/python3.11/dist-packages (from catboost) (5.24.1)\n",
            "Requirement already satisfied: six in /usr/local/lib/python3.11/dist-packages (from catboost) (1.17.0)\n",
            "Requirement already satisfied: python-dateutil>=2.8.2 in /usr/local/lib/python3.11/dist-packages (from pandas>=0.24->catboost) (2.8.2)\n",
            "Requirement already satisfied: pytz>=2020.1 in /usr/local/lib/python3.11/dist-packages (from pandas>=0.24->catboost) (2025.1)\n",
            "Requirement already satisfied: tzdata>=2022.7 in /usr/local/lib/python3.11/dist-packages (from pandas>=0.24->catboost) (2025.1)\n",
            "Requirement already satisfied: contourpy>=1.0.1 in /usr/local/lib/python3.11/dist-packages (from matplotlib->catboost) (1.3.1)\n",
            "Requirement already satisfied: cycler>=0.10 in /usr/local/lib/python3.11/dist-packages (from matplotlib->catboost) (0.12.1)\n",
            "Requirement already satisfied: fonttools>=4.22.0 in /usr/local/lib/python3.11/dist-packages (from matplotlib->catboost) (4.56.0)\n",
            "Requirement already satisfied: kiwisolver>=1.3.1 in /usr/local/lib/python3.11/dist-packages (from matplotlib->catboost) (1.4.8)\n",
            "Requirement already satisfied: packaging>=20.0 in /usr/local/lib/python3.11/dist-packages (from matplotlib->catboost) (24.2)\n",
            "Requirement already satisfied: pillow>=8 in /usr/local/lib/python3.11/dist-packages (from matplotlib->catboost) (11.1.0)\n",
            "Requirement already satisfied: pyparsing>=2.3.1 in /usr/local/lib/python3.11/dist-packages (from matplotlib->catboost) (3.2.1)\n",
            "Requirement already satisfied: tenacity>=6.2.0 in /usr/local/lib/python3.11/dist-packages (from plotly->catboost) (9.0.0)\n",
            "Downloading catboost-1.2.7-cp311-cp311-manylinux2014_x86_64.whl (98.7 MB)\n",
            "\u001b[2K   \u001b[90m━━━━━━━━━━━━━━━━━━━━━━━━━━━━━━━━━━━━━━━━\u001b[0m \u001b[32m98.7/98.7 MB\u001b[0m \u001b[31m6.7 MB/s\u001b[0m eta \u001b[36m0:00:00\u001b[0m\n",
            "\u001b[?25hDownloading numpy-1.26.4-cp311-cp311-manylinux_2_17_x86_64.manylinux2014_x86_64.whl (18.3 MB)\n",
            "\u001b[2K   \u001b[90m━━━━━━━━━━━━━━━━━━━━━━━━━━━━━━━━━━━━━━━━\u001b[0m \u001b[32m18.3/18.3 MB\u001b[0m \u001b[31m80.5 MB/s\u001b[0m eta \u001b[36m0:00:00\u001b[0m\n",
            "\u001b[?25hInstalling collected packages: numpy, catboost\n",
            "  Attempting uninstall: numpy\n",
            "    Found existing installation: numpy 2.0.2\n",
            "    Uninstalling numpy-2.0.2:\n",
            "      Successfully uninstalled numpy-2.0.2\n",
            "Successfully installed catboost-1.2.7 numpy-1.26.4\n"
          ]
        }
      ]
    },
    {
      "cell_type": "code",
      "source": [
        "\n",
        "from catboost import CatBoostClassifier\n",
        "import pandas as pd\n",
        "from sklearn.model_selection import train_test_split\n",
        "from sklearn.metrics import confusion_matrix, ConfusionMatrixDisplay\n",
        "import matplotlib.pyplot as plt\n",
        "\n",
        "# Load your dataset\n",
        "data = pd.read_csv('/content/drive/MyDrive/titanic .csv')\n",
        "\n",
        "# Define features (X) and target (y)\n",
        "X = data[['Pclass', 'Sex', 'Age', 'SibSp', 'Parch', 'Fare', 'Embarked']]\n",
        "y = data['Survived']\n",
        "\n",
        "# Convert categorical features to 'category' dtype for CatBoost\n",
        "categorical_features = ['Sex', 'Embarked']\n",
        "for feature in categorical_features:\n",
        "    X[feature] = X[feature].astype('category')\n",
        "\n",
        "# Split data into training and testing sets\n",
        "X_train, X_test, y_train, y_test = train_test_split(X, y, test_size=0.2, random_state=42)\n",
        "\n",
        "# Create and train the CatBoost Classifier\n",
        "catboost_classifier = CatBoostClassifier(random_state=42, cat_features=categorical_features, verbose=False)\n",
        "catboost_classifier.fit(X_train, y_train)\n",
        "\n",
        "# Make predictions on the test set\n",
        "y_pred = catboost_classifier.predict(X_test)\n",
        "\n",
        "# Calculate the confusion matrix\n",
        "cm = confusion_matrix(y_test, y_pred)\n",
        "\n",
        "# Display the confusion matrix using ConfusionMatrixDisplay\n",
        "disp = ConfusionMatrixDisplay(confusion_matrix=cm, display_labels=catboost_classifier.classes_)\n",
        "disp.plot(cmap=plt.cm.Blues)\n",
        "plt.title('Confusion Matrix for CatBoost Classifier')\n",
        "plt.show()"
      ],
      "metadata": {
        "colab": {
          "base_uri": "https://localhost:8080/",
          "height": 758
        },
        "id": "maL2XCAVUN7Z",
        "outputId": "8a8a886b-1371-4d7a-8836-0c060b6c93d5"
      },
      "execution_count": null,
      "outputs": [
        {
          "output_type": "stream",
          "name": "stdout",
          "text": [
            "Requirement already satisfied: catboost in /usr/local/lib/python3.11/dist-packages (1.2.7)\n",
            "Requirement already satisfied: graphviz in /usr/local/lib/python3.11/dist-packages (from catboost) (0.20.3)\n",
            "Requirement already satisfied: matplotlib in /usr/local/lib/python3.11/dist-packages (from catboost) (3.10.0)\n",
            "Requirement already satisfied: numpy<2.0,>=1.16.0 in /usr/local/lib/python3.11/dist-packages (from catboost) (1.26.4)\n",
            "Requirement already satisfied: pandas>=0.24 in /usr/local/lib/python3.11/dist-packages (from catboost) (2.2.2)\n",
            "Requirement already satisfied: scipy in /usr/local/lib/python3.11/dist-packages (from catboost) (1.14.1)\n",
            "Requirement already satisfied: plotly in /usr/local/lib/python3.11/dist-packages (from catboost) (5.24.1)\n",
            "Requirement already satisfied: six in /usr/local/lib/python3.11/dist-packages (from catboost) (1.17.0)\n",
            "Requirement already satisfied: python-dateutil>=2.8.2 in /usr/local/lib/python3.11/dist-packages (from pandas>=0.24->catboost) (2.8.2)\n",
            "Requirement already satisfied: pytz>=2020.1 in /usr/local/lib/python3.11/dist-packages (from pandas>=0.24->catboost) (2025.1)\n",
            "Requirement already satisfied: tzdata>=2022.7 in /usr/local/lib/python3.11/dist-packages (from pandas>=0.24->catboost) (2025.1)\n",
            "Requirement already satisfied: contourpy>=1.0.1 in /usr/local/lib/python3.11/dist-packages (from matplotlib->catboost) (1.3.1)\n",
            "Requirement already satisfied: cycler>=0.10 in /usr/local/lib/python3.11/dist-packages (from matplotlib->catboost) (0.12.1)\n",
            "Requirement already satisfied: fonttools>=4.22.0 in /usr/local/lib/python3.11/dist-packages (from matplotlib->catboost) (4.56.0)\n",
            "Requirement already satisfied: kiwisolver>=1.3.1 in /usr/local/lib/python3.11/dist-packages (from matplotlib->catboost) (1.4.8)\n",
            "Requirement already satisfied: packaging>=20.0 in /usr/local/lib/python3.11/dist-packages (from matplotlib->catboost) (24.2)\n",
            "Requirement already satisfied: pillow>=8 in /usr/local/lib/python3.11/dist-packages (from matplotlib->catboost) (11.1.0)\n",
            "Requirement already satisfied: pyparsing>=2.3.1 in /usr/local/lib/python3.11/dist-packages (from matplotlib->catboost) (3.2.1)\n",
            "Requirement already satisfied: tenacity>=6.2.0 in /usr/local/lib/python3.11/dist-packages (from plotly->catboost) (9.0.0)\n"
          ]
        },
        {
          "output_type": "error",
          "ename": "ValueError",
          "evalue": "numpy.dtype size changed, may indicate binary incompatibility. Expected 96 from C header, got 88 from PyObject",
          "traceback": [
            "\u001b[0;31m---------------------------------------------------------------------------\u001b[0m",
            "\u001b[0;31mValueError\u001b[0m                                Traceback (most recent call last)",
            "\u001b[0;32m<ipython-input-23-fe28e845e88e>\u001b[0m in \u001b[0;36m<cell line: 0>\u001b[0;34m()\u001b[0m\n\u001b[1;32m      1\u001b[0m \u001b[0mget_ipython\u001b[0m\u001b[0;34m(\u001b[0m\u001b[0;34m)\u001b[0m\u001b[0;34m.\u001b[0m\u001b[0msystem\u001b[0m\u001b[0;34m(\u001b[0m\u001b[0;34m'pip install catboost'\u001b[0m\u001b[0;34m)\u001b[0m\u001b[0;34m\u001b[0m\u001b[0;34m\u001b[0m\u001b[0m\n\u001b[0;32m----> 2\u001b[0;31m \u001b[0;32mfrom\u001b[0m \u001b[0mcatboost\u001b[0m \u001b[0;32mimport\u001b[0m \u001b[0mCatBoostClassifier\u001b[0m\u001b[0;34m\u001b[0m\u001b[0;34m\u001b[0m\u001b[0m\n\u001b[0m\u001b[1;32m      3\u001b[0m \u001b[0;32mimport\u001b[0m \u001b[0mpandas\u001b[0m \u001b[0;32mas\u001b[0m \u001b[0mpd\u001b[0m\u001b[0;34m\u001b[0m\u001b[0;34m\u001b[0m\u001b[0m\n\u001b[1;32m      4\u001b[0m \u001b[0;32mfrom\u001b[0m \u001b[0msklearn\u001b[0m\u001b[0;34m.\u001b[0m\u001b[0mmodel_selection\u001b[0m \u001b[0;32mimport\u001b[0m \u001b[0mtrain_test_split\u001b[0m\u001b[0;34m\u001b[0m\u001b[0;34m\u001b[0m\u001b[0m\n\u001b[1;32m      5\u001b[0m \u001b[0;32mfrom\u001b[0m \u001b[0msklearn\u001b[0m\u001b[0;34m.\u001b[0m\u001b[0mmetrics\u001b[0m \u001b[0;32mimport\u001b[0m \u001b[0mconfusion_matrix\u001b[0m\u001b[0;34m,\u001b[0m \u001b[0mConfusionMatrixDisplay\u001b[0m\u001b[0;34m\u001b[0m\u001b[0;34m\u001b[0m\u001b[0m\n",
            "\u001b[0;32m/usr/local/lib/python3.11/dist-packages/catboost/__init__.py\u001b[0m in \u001b[0;36m<module>\u001b[0;34m\u001b[0m\n\u001b[0;32m----> 1\u001b[0;31m from .core import (\n\u001b[0m\u001b[1;32m      2\u001b[0m     \u001b[0mFeaturesData\u001b[0m\u001b[0;34m,\u001b[0m \u001b[0mEFstrType\u001b[0m\u001b[0;34m,\u001b[0m \u001b[0mEShapCalcType\u001b[0m\u001b[0;34m,\u001b[0m \u001b[0mEFeaturesSelectionAlgorithm\u001b[0m\u001b[0;34m,\u001b[0m \u001b[0mEFeaturesSelectionGrouping\u001b[0m\u001b[0;34m,\u001b[0m\u001b[0;34m\u001b[0m\u001b[0;34m\u001b[0m\u001b[0m\n\u001b[1;32m      3\u001b[0m     \u001b[0mPool\u001b[0m\u001b[0;34m,\u001b[0m \u001b[0mCatBoost\u001b[0m\u001b[0;34m,\u001b[0m \u001b[0mCatBoostClassifier\u001b[0m\u001b[0;34m,\u001b[0m \u001b[0mCatBoostRegressor\u001b[0m\u001b[0;34m,\u001b[0m \u001b[0mCatBoostRanker\u001b[0m\u001b[0;34m,\u001b[0m \u001b[0mCatBoostError\u001b[0m\u001b[0;34m,\u001b[0m \u001b[0mcv\u001b[0m\u001b[0;34m,\u001b[0m \u001b[0msample_gaussian_process\u001b[0m\u001b[0;34m,\u001b[0m \u001b[0mtrain\u001b[0m\u001b[0;34m,\u001b[0m\u001b[0;34m\u001b[0m\u001b[0;34m\u001b[0m\u001b[0m\n\u001b[1;32m      4\u001b[0m     \u001b[0msum_models\u001b[0m\u001b[0;34m,\u001b[0m \u001b[0m_have_equal_features\u001b[0m\u001b[0;34m,\u001b[0m \u001b[0mto_regressor\u001b[0m\u001b[0;34m,\u001b[0m \u001b[0mto_classifier\u001b[0m\u001b[0;34m,\u001b[0m \u001b[0mto_ranker\u001b[0m\u001b[0;34m,\u001b[0m \u001b[0mMultiRegressionCustomMetric\u001b[0m\u001b[0;34m,\u001b[0m\u001b[0;34m\u001b[0m\u001b[0;34m\u001b[0m\u001b[0m\n\u001b[1;32m      5\u001b[0m     \u001b[0mMultiRegressionCustomObjective\u001b[0m\u001b[0;34m,\u001b[0m \u001b[0mMultiTargetCustomMetric\u001b[0m\u001b[0;34m,\u001b[0m \u001b[0mMultiTargetCustomObjective\u001b[0m\u001b[0;34m\u001b[0m\u001b[0;34m\u001b[0m\u001b[0m\n",
            "\u001b[0;32m/usr/local/lib/python3.11/dist-packages/catboost/core.py\u001b[0m in \u001b[0;36m<module>\u001b[0;34m\u001b[0m\n\u001b[1;32m     43\u001b[0m \u001b[0;34m\u001b[0m\u001b[0m\n\u001b[1;32m     44\u001b[0m \u001b[0;34m\u001b[0m\u001b[0m\n\u001b[0;32m---> 45\u001b[0;31m \u001b[0;32mfrom\u001b[0m \u001b[0;34m.\u001b[0m\u001b[0mplot_helpers\u001b[0m \u001b[0;32mimport\u001b[0m \u001b[0msave_plot_file\u001b[0m\u001b[0;34m,\u001b[0m \u001b[0mtry_plot_offline\u001b[0m\u001b[0;34m,\u001b[0m \u001b[0mOfflineMetricVisualizer\u001b[0m\u001b[0;34m\u001b[0m\u001b[0;34m\u001b[0m\u001b[0m\n\u001b[0m\u001b[1;32m     46\u001b[0m \u001b[0;32mfrom\u001b[0m \u001b[0;34m.\u001b[0m \u001b[0;32mimport\u001b[0m \u001b[0m_catboost\u001b[0m\u001b[0;34m\u001b[0m\u001b[0;34m\u001b[0m\u001b[0m\n\u001b[1;32m     47\u001b[0m \u001b[0;32mfrom\u001b[0m \u001b[0;34m.\u001b[0m\u001b[0mmetrics\u001b[0m \u001b[0;32mimport\u001b[0m \u001b[0mBuiltinMetric\u001b[0m\u001b[0;34m\u001b[0m\u001b[0;34m\u001b[0m\u001b[0m\n",
            "\u001b[0;32m/usr/local/lib/python3.11/dist-packages/catboost/plot_helpers.py\u001b[0m in \u001b[0;36m<module>\u001b[0;34m\u001b[0m\n\u001b[1;32m      3\u001b[0m \u001b[0;32mimport\u001b[0m \u001b[0mwarnings\u001b[0m\u001b[0;34m\u001b[0m\u001b[0;34m\u001b[0m\u001b[0m\n\u001b[1;32m      4\u001b[0m \u001b[0;34m\u001b[0m\u001b[0m\n\u001b[0;32m----> 5\u001b[0;31m \u001b[0;32mfrom\u001b[0m \u001b[0;34m.\u001b[0m \u001b[0;32mimport\u001b[0m \u001b[0m_catboost\u001b[0m\u001b[0;34m\u001b[0m\u001b[0;34m\u001b[0m\u001b[0m\n\u001b[0m\u001b[1;32m      6\u001b[0m \u001b[0mfspath\u001b[0m \u001b[0;34m=\u001b[0m \u001b[0m_catboost\u001b[0m\u001b[0;34m.\u001b[0m\u001b[0mfspath\u001b[0m\u001b[0;34m\u001b[0m\u001b[0;34m\u001b[0m\u001b[0m\n\u001b[1;32m      7\u001b[0m \u001b[0;34m\u001b[0m\u001b[0m\n",
            "\u001b[0;32m_catboost.pyx\u001b[0m in \u001b[0;36minit _catboost\u001b[0;34m()\u001b[0m\n",
            "\u001b[0;31mValueError\u001b[0m: numpy.dtype size changed, may indicate binary incompatibility. Expected 96 from C header, got 88 from PyObject"
          ]
        }
      ]
    },
    {
      "cell_type": "markdown",
      "source": [
        "25/ Train an AdaBoost Classifier with different numbers of estimators and compare accuracy."
      ],
      "metadata": {
        "id": "NMZG2qXSCfPf"
      }
    },
    {
      "cell_type": "code",
      "source": [
        "import pandas as pd\n",
        "from sklearn.ensemble import AdaBoostClassifier\n",
        "from sklearn.model_selection import train_test_split\n",
        "from sklearn.metrics import accuracy_score\n",
        "from sklearn.impute import SimpleImputer # Import SimpleImputer for missing values\n",
        "\n",
        "data = pd.read_csv('/content/drive/MyDrive/titanic .csv') # Replace with your dataset path\n",
        "\n",
        "# Define features (X) and target (y)\n",
        "X = data[['Pclass', 'Age', 'SibSp', 'Parch', 'Fare']]  # Replace with your feature columns\n",
        "y = data['Survived']  # Replace with your target variable column\n",
        "\n",
        "# Split data into training and testing sets\n",
        "X_train, X_test, y_train, y_test = train_test_split(X, y, test_size=0.2, random_state=42)\n",
        "\n",
        "# Create an imputer to fill missing values with the mean (or median, etc.)\n",
        "imputer = SimpleImputer(strategy='mean')\n",
        "X_train = imputer.fit_transform(X_train)\n",
        "X_test = imputer.transform(X_test)\n",
        "\n",
        "n_estimators_list = [10, 50, 100, 200, 500]\n",
        "\n",
        "# Iterate through different estimator values and train the model\n",
        "for n_estimators in n_estimators_list:\n",
        "    # Create and train the AdaBoost Classifier\n",
        "    ada_clf = AdaBoostClassifier(n_estimators=n_estimators, random_state=42)\n",
        "    ada_clf.fit(X_train, y_train)\n",
        "\n",
        "    # Make predictions on the test set\n",
        "    y_pred = ada_clf.predict(X_test)\n",
        "\n",
        "    # Calculate and print accuracy\n",
        "    accuracy = accuracy_score(y_test, y_pred)\n",
        "    print(f\"Accuracy with {n_estimators} estimators: {accuracy}\")"
      ],
      "metadata": {
        "id": "oUm3XPcsUkAe",
        "colab": {
          "base_uri": "https://localhost:8080/"
        },
        "outputId": "176f05a3-d051-40f7-c387-5caa5a2b2a92"
      },
      "execution_count": null,
      "outputs": [
        {
          "output_type": "stream",
          "name": "stdout",
          "text": [
            "Accuracy with 10 estimators: 0.6666666666666666\n",
            "Accuracy with 50 estimators: 0.6547619047619048\n",
            "Accuracy with 100 estimators: 0.6428571428571429\n",
            "Accuracy with 200 estimators: 0.6428571428571429\n",
            "Accuracy with 500 estimators: 0.6309523809523809\n"
          ]
        }
      ]
    },
    {
      "cell_type": "markdown",
      "source": [
        "26/ Train a Gradient Boosting Classifier and visualize the ROC curve."
      ],
      "metadata": {
        "id": "dd5sBOwgDAuZ"
      }
    },
    {
      "cell_type": "code",
      "source": [
        "import pandas as pd\n",
        "from sklearn.ensemble import GradientBoostingClassifier\n",
        "from sklearn.model_selection import train_test_split\n",
        "from sklearn.metrics import roc_curve, auc\n",
        "import matplotlib.pyplot as plt\n",
        "from sklearn.impute import SimpleImputer\n",
        "\n",
        "\n",
        "\n",
        "# Load your dataset\n",
        "data = pd.read_csv('/content/drive/MyDrive/titanic .csv')  # Replace with your dataset path\n",
        "\n",
        "# Define features (X) and target (y)\n",
        "X = data[['Pclass', 'Age', 'SibSp', 'Parch', 'Fare']]  # Replace with your feature columns\n",
        "y = data['Survived']  # Replace with your target variable column\n",
        "\n",
        "# Split data into training and testing sets\n",
        "X_train, X_test, y_train, y_test = train_test_split(X, y, test_size=0.2, random_state=42)\n",
        "\n",
        "# Create an imputer to fill missing values with the mean\n",
        "imputer = SimpleImputer(strategy='mean') # or strategy='median'\n",
        "\n",
        "# Fit the imputer on the training data and transform both training and testing data\n",
        "X_train = imputer.fit_transform(X_train)\n",
        "X_test = imputer.transform(X_test)\n",
        "\n",
        "gbc = GradientBoostingClassifier(random_state=42)\n",
        "gbc.fit(X_train, y_train)\n",
        "\n",
        "y_probs = gbc.predict_proba(X_test)[:, 1]\n",
        "\n",
        "# Calculate ROC curve\n",
        "fpr, tpr, thresholds = roc_curve(y_test, y_probs)\n",
        "roc_auc = auc(fpr, tpr)\n",
        "\n",
        "# Plot ROC curve\n",
        "plt.figure(figsize=(8, 6))\n",
        "plt.plot(fpr, tpr, color='darkorange', lw=2, label='ROC curve (area = %0.2f)' % roc_auc)\n",
        "plt.plot([0, 1], [0, 1], color='navy', lw=2, linestyle='--')\n",
        "plt.xlim([0.0, 1.0])\n",
        "plt.ylim([0.0, 1.05])\n",
        "plt.xlabel('False Positive Rate')\n",
        "plt.ylabel('True Positive Rate')\n",
        "plt.title('Receiver Operating Characteristic (ROC) Curve')\n",
        "plt.legend(loc=\"lower right\")\n",
        "plt.show()"
      ],
      "metadata": {
        "colab": {
          "base_uri": "https://localhost:8080/",
          "height": 564
        },
        "id": "C--0QP9ZC8YZ",
        "outputId": "6152bf38-9b0a-4f7b-dda4-96b688b6a10b"
      },
      "execution_count": null,
      "outputs": [
        {
          "output_type": "display_data",
          "data": {
            "text/plain": [
              "<Figure size 800x600 with 1 Axes>"
            ],
            "image/png": "[encoded data removed]"
          },
          "metadata": {}
        }
      ]
    },
    {
      "cell_type": "markdown",
      "source": [
        "27/ Train an XGBoost Regressor and tune the learning rate using GridSearchCV."
      ],
      "metadata": {
        "id": "UmXg6DOgDBTH"
      }
    },
    {
      "cell_type": "code",
      "source": [
        "import xgboost as xgb\n",
        "import pandas as pd\n",
        "from sklearn.model_selection import train_test_split, GridSearchCV\n",
        "from sklearn.metrics import mean_squared_error\n",
        "\n",
        "data = pd.read_csv('/content/drive/MyDrive/titanic .csv')  # Replace with your dataset path\n",
        "\n",
        "# Define features (X) and target (y)\n",
        "X = data[['Pclass', 'Age', 'SibSp', 'Parch', 'Fare']]  # Replace with your feature columns\n",
        "y = data['Survived']  # Replace with your target variable column\n",
        "\n",
        "# Split data into training and testing sets\n",
        "X_train, X_test, y_train, y_test = train_test_split(X, y, test_size=0.2, random_state=42)\n",
        "\n",
        "xgb_regressor = xgb.XGBRegressor(objective='reg:squarederror', random_state=42)\n",
        "\n",
        "# Define the parameter grid for GridSearchCV\n",
        "param_grid = {\n",
        "    'learning_rate': [0.01, 0.1, 0.2, 0.3],  # Values to try for learning rate\n",
        "}\n",
        "\n",
        "grid_search = GridSearchCV(estimator=xgb_regressor, param_grid=param_grid,\n",
        "                           scoring='neg_mean_squared_error', cv=5, verbose=1)\n",
        "\n",
        "# Fit the GridSearchCV object to the training data\n",
        "grid_search.fit(X_train, y_train)\n",
        "\n",
        "# Print the best learning rate found\n",
        "print(\"Best learning rate:\", grid_search.best_params_['learning_rate'])\n",
        "\n",
        "best_xgb_regressor = grid_search.best_estimator_\n",
        "\n",
        "# Train the final model on the entire training data\n",
        "best_xgb_regressor.fit(X_train, y_train)\n",
        "\n",
        "# Make predictions on the test set\n",
        "y_pred = best_xgb_regressor.predict(X_test)\n",
        "\n",
        "# Evaluate the model using Mean Squared Error (MSE)\n",
        "mse = mean_squared_error(y_test, y_pred)\n",
        "print(\"Mean Squared Error (MSE):\", mse)"
      ],
      "metadata": {
        "colab": {
          "base_uri": "https://localhost:8080/"
        },
        "id": "XbRMFKbYDh9X",
        "outputId": "a42755c6-403f-462e-eb6e-4dc6af34497d"
      },
      "execution_count": null,
      "outputs": [
        {
          "output_type": "stream",
          "name": "stdout",
          "text": [
            "Fitting 5 folds for each of 4 candidates, totalling 20 fits\n",
            "Best learning rate: 0.01\n",
            "Mean Squared Error (MSE): 0.2519260048866272\n"
          ]
        }
      ]
    },
    {
      "cell_type": "markdown",
      "source": [
        "28/ Train a CatBoost Classifier on an imbalanced dataset and compare performance with class weighting."
      ],
      "metadata": {
        "id": "hGs-21LTEbmR"
      }
    },
    {
      "cell_type": "code",
      "source": [
        "from catboost import CatBoostClassifier\n",
        "import pandas as pd\n",
        "from sklearn.model_selection import train_test_split\n",
        "from sklearn.metrics import classification_report  # For evaluating performance\n",
        "import numpy as np\n",
        "data = pd.read_csv('/content/drive/MyDrive/titanic .csv')  # Replace with your dataset path\n",
        "\n",
        "# Define features (X) and target (y)\n",
        "X = data[['Pclass', 'Age', 'SibSp', 'Parch', 'Fare']]  # Replace with your feature columns\n",
        "y = data['Survived']  # Replace with your target variable column\n",
        "\n",
        "# Split data into training and testing sets\n",
        "X_train, X_test, y_train, y_test = train_test_split(X, y, test_size=0.2, random_state=42)\n",
        "\n",
        "# Create CatBoost Pool objects for training and testing data\n",
        "train_pool = Pool(data=X_train, label=y_train)\n",
        "test_pool = Pool(data=X_test, label=y_test)\n",
        "\n",
        "model_no_weights = CatBoostClassifier(iterations=100, random_seed=42, verbose=False)  # Adjust iterations as needed\n",
        "\n",
        "# Train the model without class weights\n",
        "model_no_weights.fit(train_pool)\n",
        "\n",
        "# Make predictions on the test set\n",
        "y_pred_no_weights = model_no_weights.predict(test_pool)\n",
        "\n",
        "# Evaluate performance and print classification report\n",
        "print(\"Performance without class weighting:\")\n",
        "print(classification_report(y_test, y_pred_no_weights))\n",
        "\n",
        "from sklearn.utils.class_weight import compute_class_weight\n",
        "class_weights = compute_class_weight(class_weight='balanced', classes=np.unique(y_train), y=y_train)\n",
        "class_weights_dict = dict(zip(np.unique(y_train), class_weights))\n",
        "\n",
        "# Create a CatBoost Classifier instance with class weights\n",
        "model_with_weights = CatBoostClassifier(iterations=100, random_seed=42, class_weights=class_weights_dict, verbose=False)\n",
        "\n",
        "# Train the model with class weights\n",
        "model_with_weights.fit(train_pool)\n",
        "\n",
        "# Make predictions on the test set\n",
        "y_pred_with_weights = model_with_weights.predict(test_pool)\n",
        "\n",
        "# Evaluate performance and print classification report\n",
        "print(\"\\nPerformance with class weighting:\")\n",
        "print(classification_report(y_test, y_pred_with_weights))"
      ],
      "metadata": {
        "colab": {
          "base_uri": "https://localhost:8080/",
          "height": 408
        },
        "id": "g020iyYnEXUb",
        "outputId": "fd010a7b-2be5-4e3e-a691-f7c178c78228"
      },
      "execution_count": null,
      "outputs": [
        {
          "output_type": "error",
          "ename": "ValueError",
          "evalue": "numpy.dtype size changed, may indicate binary incompatibility. Expected 96 from C header, got 88 from PyObject",
          "traceback": [
            "\u001b[0;31m---------------------------------------------------------------------------\u001b[0m",
            "\u001b[0;31mValueError\u001b[0m                                Traceback (most recent call last)",
            "\u001b[0;32m<ipython-input-7-c4a8f9257d93>\u001b[0m in \u001b[0;36m<cell line: 0>\u001b[0;34m()\u001b[0m\n\u001b[0;32m----> 1\u001b[0;31m \u001b[0;32mfrom\u001b[0m \u001b[0mcatboost\u001b[0m \u001b[0;32mimport\u001b[0m \u001b[0mCatBoostClassifier\u001b[0m\u001b[0;34m\u001b[0m\u001b[0;34m\u001b[0m\u001b[0m\n\u001b[0m\u001b[1;32m      2\u001b[0m \u001b[0;32mimport\u001b[0m \u001b[0mpandas\u001b[0m \u001b[0;32mas\u001b[0m \u001b[0mpd\u001b[0m\u001b[0;34m\u001b[0m\u001b[0;34m\u001b[0m\u001b[0m\n\u001b[1;32m      3\u001b[0m \u001b[0;32mfrom\u001b[0m \u001b[0msklearn\u001b[0m\u001b[0;34m.\u001b[0m\u001b[0mmodel_selection\u001b[0m \u001b[0;32mimport\u001b[0m \u001b[0mtrain_test_split\u001b[0m\u001b[0;34m\u001b[0m\u001b[0;34m\u001b[0m\u001b[0m\n\u001b[1;32m      4\u001b[0m \u001b[0;32mfrom\u001b[0m \u001b[0msklearn\u001b[0m\u001b[0;34m.\u001b[0m\u001b[0mmetrics\u001b[0m \u001b[0;32mimport\u001b[0m \u001b[0mclassification_report\u001b[0m  \u001b[0;31m# For evaluating performance\u001b[0m\u001b[0;34m\u001b[0m\u001b[0;34m\u001b[0m\u001b[0m\n\u001b[1;32m      5\u001b[0m \u001b[0;32mimport\u001b[0m \u001b[0mnumpy\u001b[0m \u001b[0;32mas\u001b[0m \u001b[0mnp\u001b[0m\u001b[0;34m\u001b[0m\u001b[0;34m\u001b[0m\u001b[0m\n",
            "\u001b[0;32m/usr/local/lib/python3.11/dist-packages/catboost/__init__.py\u001b[0m in \u001b[0;36m<module>\u001b[0;34m\u001b[0m\n\u001b[0;32m----> 1\u001b[0;31m from .core import (\n\u001b[0m\u001b[1;32m      2\u001b[0m     \u001b[0mFeaturesData\u001b[0m\u001b[0;34m,\u001b[0m \u001b[0mEFstrType\u001b[0m\u001b[0;34m,\u001b[0m \u001b[0mEShapCalcType\u001b[0m\u001b[0;34m,\u001b[0m \u001b[0mEFeaturesSelectionAlgorithm\u001b[0m\u001b[0;34m,\u001b[0m \u001b[0mEFeaturesSelectionGrouping\u001b[0m\u001b[0;34m,\u001b[0m\u001b[0;34m\u001b[0m\u001b[0;34m\u001b[0m\u001b[0m\n\u001b[1;32m      3\u001b[0m     \u001b[0mPool\u001b[0m\u001b[0;34m,\u001b[0m \u001b[0mCatBoost\u001b[0m\u001b[0;34m,\u001b[0m \u001b[0mCatBoostClassifier\u001b[0m\u001b[0;34m,\u001b[0m \u001b[0mCatBoostRegressor\u001b[0m\u001b[0;34m,\u001b[0m \u001b[0mCatBoostRanker\u001b[0m\u001b[0;34m,\u001b[0m \u001b[0mCatBoostError\u001b[0m\u001b[0;34m,\u001b[0m \u001b[0mcv\u001b[0m\u001b[0;34m,\u001b[0m \u001b[0msample_gaussian_process\u001b[0m\u001b[0;34m,\u001b[0m \u001b[0mtrain\u001b[0m\u001b[0;34m,\u001b[0m\u001b[0;34m\u001b[0m\u001b[0;34m\u001b[0m\u001b[0m\n\u001b[1;32m      4\u001b[0m     \u001b[0msum_models\u001b[0m\u001b[0;34m,\u001b[0m \u001b[0m_have_equal_features\u001b[0m\u001b[0;34m,\u001b[0m \u001b[0mto_regressor\u001b[0m\u001b[0;34m,\u001b[0m \u001b[0mto_classifier\u001b[0m\u001b[0;34m,\u001b[0m \u001b[0mto_ranker\u001b[0m\u001b[0;34m,\u001b[0m \u001b[0mMultiRegressionCustomMetric\u001b[0m\u001b[0;34m,\u001b[0m\u001b[0;34m\u001b[0m\u001b[0;34m\u001b[0m\u001b[0m\n\u001b[1;32m      5\u001b[0m     \u001b[0mMultiRegressionCustomObjective\u001b[0m\u001b[0;34m,\u001b[0m \u001b[0mMultiTargetCustomMetric\u001b[0m\u001b[0;34m,\u001b[0m \u001b[0mMultiTargetCustomObjective\u001b[0m\u001b[0;34m\u001b[0m\u001b[0;34m\u001b[0m\u001b[0m\n",
            "\u001b[0;32m/usr/local/lib/python3.11/dist-packages/catboost/core.py\u001b[0m in \u001b[0;36m<module>\u001b[0;34m\u001b[0m\n\u001b[1;32m     43\u001b[0m \u001b[0;34m\u001b[0m\u001b[0m\n\u001b[1;32m     44\u001b[0m \u001b[0;34m\u001b[0m\u001b[0m\n\u001b[0;32m---> 45\u001b[0;31m \u001b[0;32mfrom\u001b[0m \u001b[0;34m.\u001b[0m\u001b[0mplot_helpers\u001b[0m \u001b[0;32mimport\u001b[0m \u001b[0msave_plot_file\u001b[0m\u001b[0;34m,\u001b[0m \u001b[0mtry_plot_offline\u001b[0m\u001b[0;34m,\u001b[0m \u001b[0mOfflineMetricVisualizer\u001b[0m\u001b[0;34m\u001b[0m\u001b[0;34m\u001b[0m\u001b[0m\n\u001b[0m\u001b[1;32m     46\u001b[0m \u001b[0;32mfrom\u001b[0m \u001b[0;34m.\u001b[0m \u001b[0;32mimport\u001b[0m \u001b[0m_catboost\u001b[0m\u001b[0;34m\u001b[0m\u001b[0;34m\u001b[0m\u001b[0m\n\u001b[1;32m     47\u001b[0m \u001b[0;32mfrom\u001b[0m \u001b[0;34m.\u001b[0m\u001b[0mmetrics\u001b[0m \u001b[0;32mimport\u001b[0m \u001b[0mBuiltinMetric\u001b[0m\u001b[0;34m\u001b[0m\u001b[0;34m\u001b[0m\u001b[0m\n",
            "\u001b[0;32m/usr/local/lib/python3.11/dist-packages/catboost/plot_helpers.py\u001b[0m in \u001b[0;36m<module>\u001b[0;34m\u001b[0m\n\u001b[1;32m      3\u001b[0m \u001b[0;32mimport\u001b[0m \u001b[0mwarnings\u001b[0m\u001b[0;34m\u001b[0m\u001b[0;34m\u001b[0m\u001b[0m\n\u001b[1;32m      4\u001b[0m \u001b[0;34m\u001b[0m\u001b[0m\n\u001b[0;32m----> 5\u001b[0;31m \u001b[0;32mfrom\u001b[0m \u001b[0;34m.\u001b[0m \u001b[0;32mimport\u001b[0m \u001b[0m_catboost\u001b[0m\u001b[0;34m\u001b[0m\u001b[0;34m\u001b[0m\u001b[0m\n\u001b[0m\u001b[1;32m      6\u001b[0m \u001b[0mfspath\u001b[0m \u001b[0;34m=\u001b[0m \u001b[0m_catboost\u001b[0m\u001b[0;34m.\u001b[0m\u001b[0mfspath\u001b[0m\u001b[0;34m\u001b[0m\u001b[0;34m\u001b[0m\u001b[0m\n\u001b[1;32m      7\u001b[0m \u001b[0;34m\u001b[0m\u001b[0m\n",
            "\u001b[0;32m_catboost.pyx\u001b[0m in \u001b[0;36minit _catboost\u001b[0;34m()\u001b[0m\n",
            "\u001b[0;31mValueError\u001b[0m: numpy.dtype size changed, may indicate binary incompatibility. Expected 96 from C header, got 88 from PyObject"
          ]
        }
      ]
    },
    {
      "cell_type": "markdown",
      "source": [
        "29/ Train an AdaBoost Classifier and analyze the effect of different learning rates\n"
      ],
      "metadata": {
        "id": "tPNR5UbJFx0z"
      }
    },
    {
      "cell_type": "code",
      "source": [
        "import pandas as pd\n",
        "from sklearn.ensemble import AdaBoostClassifier\n",
        "from sklearn.model_selection import train_test_split\n",
        "from sklearn.metrics import accuracy_score\n",
        "import matplotlib.pyplot as plt\n",
        "from sklearn.impute import SimpleImputer # Import SimpleImputer for missing values\n",
        "\n",
        "# Load your dataset (replace with your actual path)\n",
        "data = pd.read_csv('/content/drive/MyDrive/titanic .csv')\n",
        "\n",
        "# Define features (X) and target (y)\n",
        "X = data[['Pclass', 'Age', 'SibSp', 'Parch', 'Fare']]\n",
        "y = data['Survived']\n",
        "\n",
        "# Split data into training and testing sets\n",
        "X_train, X_test, y_train, y_test = train_test_split(X, y, test_size=0.2, random_state=42)\n",
        "\n",
        "# Impute missing values using SimpleImputer\n",
        "imputer = SimpleImputer(strategy='mean')  # or strategy='median', etc.\n",
        "X_train = imputer.fit_transform(X_train)\n",
        "X_test = imputer.transform(X_test)\n",
        "\n",
        "learning_rates = [0.1, 0.5, 1.0, 1.5, 2.0]  # Try a range of learning rates\n",
        "accuracies = []\n",
        "\n",
        "for lr in learning_rates:\n",
        "    # Create and train AdaBoost with the current learning rate\n",
        "    ada_clf = AdaBoostClassifier(n_estimators=50, learning_rate=lr, random_state=42)\n",
        "    ada_clf.fit(X_train, y_train)\n",
        "\n",
        "    # Make predictions and calculate accuracy\n",
        "    y_pred = ada_clf.predict(X_test)\n",
        "    accuracy = accuracy_score(y_test, y_pred)\n",
        "    accuracies.append(accuracy)\n",
        "\n",
        "    print(f\"Learning Rate: {lr}, Accuracy: {accuracy}\")\n",
        "\n",
        "# Plot the results\n",
        "plt.figure(figsize=(8, 6))\n",
        "plt.plot(learning_rates, accuracies, marker='o')\n",
        "plt.xlabel(\"Learning Rate\")\n",
        "plt.ylabel(\"Accuracy\")\n",
        "plt.title(\"Effect of Learning Rate on AdaBoost Accuracy\")\n",
        "plt.grid(True)\n",
        "plt.show()"
      ],
      "metadata": {
        "colab": {
          "base_uri": "https://localhost:8080/",
          "height": 651
        },
        "id": "49tooTM0GJ5c",
        "outputId": "64625863-a216-448a-d728-df8587e07a4d"
      },
      "execution_count": null,
      "outputs": [
        {
          "output_type": "stream",
          "name": "stdout",
          "text": [
            "Learning Rate: 0.1, Accuracy: 0.5952380952380952\n",
            "Learning Rate: 0.5, Accuracy: 0.6309523809523809\n",
            "Learning Rate: 1.0, Accuracy: 0.6547619047619048\n",
            "Learning Rate: 1.5, Accuracy: 0.6309523809523809\n",
            "Learning Rate: 2.0, Accuracy: 0.5952380952380952\n"
          ]
        },
        {
          "output_type": "display_data",
          "data": {
            "text/plain": [
              "<Figure size 800x600 with 1 Axes>"
            ],
            "image/png": "[encoded data removed]"
          },
          "metadata": {}
        }
      ]
    },
    {
      "cell_type": "markdown",
      "source": [
        "30/ Train an XGBoost Classifier for multi-class classification and evaluate using log-loss"
      ],
      "metadata": {
        "id": "ZHWu2AZRGg4h"
      }
    },
    {
      "cell_type": "code",
      "source": [
        "import xgboost as xgb\n",
        "import pandas as pd\n",
        "from sklearn.model_selection import train_test_split\n",
        "from sklearn.metrics import log_loss\n",
        "from sklearn.preprocessing import LabelEncoder\n",
        "\n",
        "# Load your dataset\n",
        "data = pd.read_csv('/content/drive/MyDrive/titanic .csv')  # Replace with your dataset path\n",
        "\n",
        "# Assuming 'Pclass' is your multi-class target variable\n",
        "# If it's not, replace with the correct column name\n",
        "X = data[['Age', 'SibSp', 'Parch', 'Fare']]\n",
        "y = data['Pclass']\n",
        "\n",
        "# Convert target variable to numerical using Label Encoding if necessary\n",
        "# If your target is already numerical, you can skip this step\n",
        "le = LabelEncoder()\n",
        "y = le.fit_transform(y)\n",
        "\n",
        "# Split data into training and testing sets\n",
        "X_train, X_test, y_train, y_test = train_test_split(X, y, test_size=0.2, random_state=42)\n",
        "\n",
        "# Create an XGBoost Classifier instance\n",
        "xgb_classifier = xgb.XGBClassifier(\n",
        "    objective='multi:softprob',  # For multi-class classification\n",
        "    num_class=len(le.classes_),  # Number of classes in your target\n",
        "    random_state=42\n",
        ")\n",
        "\n",
        "# Train the model\n",
        "xgb_classifier.fit(X_train, y_train)\n",
        "\n",
        "# Make predictions on the test set\n",
        "y_pred_probs = xgb_classifier.predict_proba(X_test)  # Get predicted probabilities\n",
        "\n",
        "# Calculate log loss\n",
        "logloss = log_loss(y_test, y_pred_probs)\n",
        "\n",
        "# Print the log loss\n",
        "print(f\"Log Loss: {logloss}\")"
      ],
      "metadata": {
        "colab": {
          "base_uri": "https://localhost:8080/"
        },
        "id": "-ZfZeGWyGbzO",
        "outputId": "1b45c2be-031b-43b5-d589-713ee21b3c69"
      },
      "execution_count": null,
      "outputs": [
        {
          "output_type": "stream",
          "name": "stdout",
          "text": [
            "Log Loss: 0.35282007113845915\n"
          ]
        }
      ]
    },
    {
      "cell_type": "code",
      "source": [],
      "metadata": {
        "id": "v1EvEDN_Gsrt"
      },
      "execution_count": null,
      "outputs": []
    }
  ]
}